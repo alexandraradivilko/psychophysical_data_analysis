{
 "cells": [
  {
   "cell_type": "code",
   "execution_count": 74,
   "id": "11215a05",
   "metadata": {},
   "outputs": [],
   "source": [
    "import pandas as pd\n",
    "import statsmodels.formula.api as smf\n",
    "import statsmodels.api as sm\n",
    "import numpy as np\n",
    "import matplotlib.pyplot as plt\n",
    "import scipy.stats as sts\n",
    "import seaborn as sns\n",
    "sns.set(style=\"whitegrid\")\n",
    "import pingouin as pg\n",
    "import warnings\n",
    "import os\n",
    "warnings.filterwarnings(\"ignore\")\n",
    "%matplotlib inline"
   ]
  },
  {
   "cell_type": "code",
   "execution_count": 75,
   "id": "a55765a8",
   "metadata": {},
   "outputs": [
    {
     "data": {
      "text/html": [
       "<div>\n",
       "<style scoped>\n",
       "    .dataframe tbody tr th:only-of-type {\n",
       "        vertical-align: middle;\n",
       "    }\n",
       "\n",
       "    .dataframe tbody tr th {\n",
       "        vertical-align: top;\n",
       "    }\n",
       "\n",
       "    .dataframe thead th {\n",
       "        text-align: right;\n",
       "    }\n",
       "</style>\n",
       "<table border=\"1\" class=\"dataframe\">\n",
       "  <thead>\n",
       "    <tr style=\"text-align: right;\">\n",
       "      <th></th>\n",
       "      <th>id</th>\n",
       "      <th>Пол</th>\n",
       "      <th>Возраст</th>\n",
       "      <th>Ситуативная_балл</th>\n",
       "      <th>Личностная_балл</th>\n",
       "      <th>Ситуативная_группа</th>\n",
       "      <th>Личностная_группа</th>\n",
       "      <th>0.4</th>\n",
       "      <th>1.0</th>\n",
       "      <th>3.0</th>\n",
       "      <th>...</th>\n",
       "      <th>ft56</th>\n",
       "      <th>ft67</th>\n",
       "      <th>ft71</th>\n",
       "      <th>ft110</th>\n",
       "      <th>At04</th>\n",
       "      <th>At45</th>\n",
       "      <th>At56</th>\n",
       "      <th>At67</th>\n",
       "      <th>At71</th>\n",
       "      <th>At110</th>\n",
       "    </tr>\n",
       "  </thead>\n",
       "  <tbody>\n",
       "    <tr>\n",
       "      <th>0</th>\n",
       "      <td>1</td>\n",
       "      <td>Муж</td>\n",
       "      <td>31</td>\n",
       "      <td>24</td>\n",
       "      <td>22</td>\n",
       "      <td>1</td>\n",
       "      <td>1</td>\n",
       "      <td>10,6</td>\n",
       "      <td>13,1</td>\n",
       "      <td>23,4</td>\n",
       "      <td>...</td>\n",
       "      <td>0,041</td>\n",
       "      <td>0,099</td>\n",
       "      <td>0,483</td>\n",
       "      <td>0,352</td>\n",
       "      <td>0,06</td>\n",
       "      <td>0,276</td>\n",
       "      <td>0,348</td>\n",
       "      <td>0,299</td>\n",
       "      <td>0,293</td>\n",
       "      <td>0,294</td>\n",
       "    </tr>\n",
       "    <tr>\n",
       "      <th>1</th>\n",
       "      <td>2</td>\n",
       "      <td>Муж</td>\n",
       "      <td>31</td>\n",
       "      <td>25</td>\n",
       "      <td>31</td>\n",
       "      <td>1</td>\n",
       "      <td>2</td>\n",
       "      <td>9</td>\n",
       "      <td>17,9</td>\n",
       "      <td>24,2</td>\n",
       "      <td>...</td>\n",
       "      <td>0,061</td>\n",
       "      <td>0,14</td>\n",
       "      <td>0,421</td>\n",
       "      <td>0,346</td>\n",
       "      <td>0,0562</td>\n",
       "      <td>0,18</td>\n",
       "      <td>0,195</td>\n",
       "      <td>0,196</td>\n",
       "      <td>0,201</td>\n",
       "      <td>0,2</td>\n",
       "    </tr>\n",
       "    <tr>\n",
       "      <th>2</th>\n",
       "      <td>3</td>\n",
       "      <td>Муж</td>\n",
       "      <td>39</td>\n",
       "      <td>25</td>\n",
       "      <td>38</td>\n",
       "      <td>1</td>\n",
       "      <td>2</td>\n",
       "      <td>15,9</td>\n",
       "      <td>15,4</td>\n",
       "      <td>15,6</td>\n",
       "      <td>...</td>\n",
       "      <td>0,049</td>\n",
       "      <td>0,091</td>\n",
       "      <td>0,453</td>\n",
       "      <td>0,376</td>\n",
       "      <td>0,2647</td>\n",
       "      <td>0,35</td>\n",
       "      <td>0,203</td>\n",
       "      <td>0,439</td>\n",
       "      <td>0,338</td>\n",
       "      <td>0,33</td>\n",
       "    </tr>\n",
       "    <tr>\n",
       "      <th>3</th>\n",
       "      <td>4</td>\n",
       "      <td>Жен</td>\n",
       "      <td>47</td>\n",
       "      <td>27</td>\n",
       "      <td>41</td>\n",
       "      <td>1</td>\n",
       "      <td>2</td>\n",
       "      <td>8,8</td>\n",
       "      <td>21,3</td>\n",
       "      <td>19,5</td>\n",
       "      <td>...</td>\n",
       "      <td>0,047</td>\n",
       "      <td>0,14</td>\n",
       "      <td>0,42</td>\n",
       "      <td>0,352</td>\n",
       "      <td>0,2158</td>\n",
       "      <td>0,235</td>\n",
       "      <td>0,31</td>\n",
       "      <td>0,251</td>\n",
       "      <td>0,284</td>\n",
       "      <td>0,291</td>\n",
       "    </tr>\n",
       "    <tr>\n",
       "      <th>4</th>\n",
       "      <td>5</td>\n",
       "      <td>Муж</td>\n",
       "      <td>47</td>\n",
       "      <td>32</td>\n",
       "      <td>25</td>\n",
       "      <td>2</td>\n",
       "      <td>1</td>\n",
       "      <td>14,9</td>\n",
       "      <td>25,8</td>\n",
       "      <td>18,4</td>\n",
       "      <td>...</td>\n",
       "      <td>0,064</td>\n",
       "      <td>0,118</td>\n",
       "      <td>0,401</td>\n",
       "      <td>0,391</td>\n",
       "      <td>0,1438</td>\n",
       "      <td>0,16</td>\n",
       "      <td>0,246</td>\n",
       "      <td>0,257</td>\n",
       "      <td>0,253</td>\n",
       "      <td>0,255</td>\n",
       "    </tr>\n",
       "  </tbody>\n",
       "</table>\n",
       "<p>5 rows × 25 columns</p>\n",
       "</div>"
      ],
      "text/plain": [
       "   id  Пол  Возраст  Ситуативная_балл  Личностная_балл  Ситуативная_группа  \\\n",
       "0   1  Муж       31                24               22                   1   \n",
       "1   2  Муж       31                25               31                   1   \n",
       "2   3  Муж       39                25               38                   1   \n",
       "3   4  Жен       47                27               41                   1   \n",
       "4   5  Муж       47                32               25                   2   \n",
       "\n",
       "   Личностная_группа   0.4   1.0   3.0  ...   ft56   ft67   ft71  ft110  \\\n",
       "0                  1  10,6  13,1  23,4  ...  0,041  0,099  0,483  0,352   \n",
       "1                  2     9  17,9  24,2  ...  0,061   0,14  0,421  0,346   \n",
       "2                  2  15,9  15,4  15,6  ...  0,049  0,091  0,453  0,376   \n",
       "3                  2   8,8  21,3  19,5  ...  0,047   0,14   0,42  0,352   \n",
       "4                  1  14,9  25,8  18,4  ...  0,064  0,118  0,401  0,391   \n",
       "\n",
       "     At04   At45   At56   At67   At71  At110  \n",
       "0    0,06  0,276  0,348  0,299  0,293  0,294  \n",
       "1  0,0562   0,18  0,195  0,196  0,201    0,2  \n",
       "2  0,2647   0,35  0,203  0,439  0,338   0,33  \n",
       "3  0,2158  0,235   0,31  0,251  0,284  0,291  \n",
       "4  0,1438   0,16  0,246  0,257  0,253  0,255  \n",
       "\n",
       "[5 rows x 25 columns]"
      ]
     },
     "execution_count": 75,
     "metadata": {},
     "output_type": "execute_result"
    }
   ],
   "source": [
    "df = pd.read_csv('data.csv').drop(columns=['0.2','0.6','0.8','6.0','8.0'])\n",
    "df.head()"
   ]
  },
  {
   "cell_type": "code",
   "execution_count": 76,
   "id": "a9acec28",
   "metadata": {},
   "outputs": [],
   "source": [
    "# преобразование категориальных переменных в числа\n",
    "df['Пол'] = (df['Пол'] == 'Муж').astype(int)\n",
    "df['Ситуативная_группа'] = df['Ситуативная_группа'].astype(int)\n",
    "df['Личностная_группа'] = df['Личностная_группа'].astype(int)\n",
    "\n",
    "# Замена запятых на точки и преобразование строковых значений в числа\n",
    "df[\"0.4\"] = df[\"0.4\"].str.replace(\",\", \".\").astype(float)\n",
    "df[\"1.0\"] = df[\"1.0\"].str.replace(\",\", \".\").astype(float)\n",
    "df[\"3.0\"] = df[\"3.0\"].str.replace(\",\", \".\").astype(float)\n",
    "df[\"10.0\"] = df[\"10.0\"].str.replace(\",\", \".\").astype(float)\n",
    "df[\"mof\"] = df[\"mof\"].str.replace(\",\", \".\").astype(float)\n",
    "df[\"moA\"] = df[\"moA\"].str.replace(\",\", \".\").astype(float)\n",
    "df[\"ft04\"] = df[\"ft04\"].str.replace(\",\", \".\").astype(float)\n",
    "df[\"ft45\"] = df[\"ft45\"].str.replace(\",\", \".\").astype(float)\n",
    "df[\"ft56\"] = df[\"ft56\"].str.replace(\",\", \".\").astype(float)\n",
    "df[\"ft67\"] = df[\"ft67\"].str.replace(\",\", \".\").astype(float)\n",
    "df[\"ft71\"] = df[\"ft71\"].str.replace(\",\", \".\").astype(float)\n",
    "df[\"ft110\"] = df[\"ft110\"].str.replace(\",\", \".\").astype(float)\n",
    "df[\"At04\"] = df[\"At04\"].str.replace(\",\", \".\").astype(float)\n",
    "df[\"At45\"] = df[\"At45\"].str.replace(\",\", \".\").astype(float)\n",
    "df[\"At56\"] = df[\"At56\"].str.replace(\",\", \".\").astype(float)\n",
    "df[\"At67\"] = df[\"At67\"].str.replace(\",\", \".\").astype(float)\n",
    "df[\"At71\"] = df[\"At71\"].str.replace(\",\", \".\").astype(float)\n",
    "df[\"At110\"] = df[\"At110\"].str.replace(\",\", \".\").astype(float)"
   ]
  },
  {
   "cell_type": "code",
   "execution_count": 77,
   "id": "05c99dfa",
   "metadata": {},
   "outputs": [
    {
     "data": {
      "text/html": [
       "<div>\n",
       "<style scoped>\n",
       "    .dataframe tbody tr th:only-of-type {\n",
       "        vertical-align: middle;\n",
       "    }\n",
       "\n",
       "    .dataframe tbody tr th {\n",
       "        vertical-align: top;\n",
       "    }\n",
       "\n",
       "    .dataframe thead th {\n",
       "        text-align: right;\n",
       "    }\n",
       "</style>\n",
       "<table border=\"1\" class=\"dataframe\">\n",
       "  <thead>\n",
       "    <tr style=\"text-align: right;\">\n",
       "      <th></th>\n",
       "      <th>id</th>\n",
       "      <th>Пол</th>\n",
       "      <th>Возраст</th>\n",
       "      <th>Ситуативная_балл</th>\n",
       "      <th>Личностная_балл</th>\n",
       "      <th>Ситуативная_группа</th>\n",
       "      <th>Личностная_группа</th>\n",
       "      <th>0.4</th>\n",
       "      <th>1.0</th>\n",
       "      <th>3.0</th>\n",
       "      <th>...</th>\n",
       "      <th>ft56</th>\n",
       "      <th>ft67</th>\n",
       "      <th>ft71</th>\n",
       "      <th>ft110</th>\n",
       "      <th>At04</th>\n",
       "      <th>At45</th>\n",
       "      <th>At56</th>\n",
       "      <th>At67</th>\n",
       "      <th>At71</th>\n",
       "      <th>At110</th>\n",
       "    </tr>\n",
       "  </thead>\n",
       "  <tbody>\n",
       "    <tr>\n",
       "      <th>0</th>\n",
       "      <td>1</td>\n",
       "      <td>1</td>\n",
       "      <td>31</td>\n",
       "      <td>24</td>\n",
       "      <td>22</td>\n",
       "      <td>1</td>\n",
       "      <td>1</td>\n",
       "      <td>10.6</td>\n",
       "      <td>13.1</td>\n",
       "      <td>23.4</td>\n",
       "      <td>...</td>\n",
       "      <td>0.041</td>\n",
       "      <td>0.099</td>\n",
       "      <td>0.483</td>\n",
       "      <td>0.352</td>\n",
       "      <td>0.0600</td>\n",
       "      <td>0.276</td>\n",
       "      <td>0.348</td>\n",
       "      <td>0.299</td>\n",
       "      <td>0.293</td>\n",
       "      <td>0.294</td>\n",
       "    </tr>\n",
       "    <tr>\n",
       "      <th>1</th>\n",
       "      <td>2</td>\n",
       "      <td>1</td>\n",
       "      <td>31</td>\n",
       "      <td>25</td>\n",
       "      <td>31</td>\n",
       "      <td>1</td>\n",
       "      <td>2</td>\n",
       "      <td>9.0</td>\n",
       "      <td>17.9</td>\n",
       "      <td>24.2</td>\n",
       "      <td>...</td>\n",
       "      <td>0.061</td>\n",
       "      <td>0.140</td>\n",
       "      <td>0.421</td>\n",
       "      <td>0.346</td>\n",
       "      <td>0.0562</td>\n",
       "      <td>0.180</td>\n",
       "      <td>0.195</td>\n",
       "      <td>0.196</td>\n",
       "      <td>0.201</td>\n",
       "      <td>0.200</td>\n",
       "    </tr>\n",
       "    <tr>\n",
       "      <th>2</th>\n",
       "      <td>3</td>\n",
       "      <td>1</td>\n",
       "      <td>39</td>\n",
       "      <td>25</td>\n",
       "      <td>38</td>\n",
       "      <td>1</td>\n",
       "      <td>2</td>\n",
       "      <td>15.9</td>\n",
       "      <td>15.4</td>\n",
       "      <td>15.6</td>\n",
       "      <td>...</td>\n",
       "      <td>0.049</td>\n",
       "      <td>0.091</td>\n",
       "      <td>0.453</td>\n",
       "      <td>0.376</td>\n",
       "      <td>0.2647</td>\n",
       "      <td>0.350</td>\n",
       "      <td>0.203</td>\n",
       "      <td>0.439</td>\n",
       "      <td>0.338</td>\n",
       "      <td>0.330</td>\n",
       "    </tr>\n",
       "    <tr>\n",
       "      <th>3</th>\n",
       "      <td>4</td>\n",
       "      <td>0</td>\n",
       "      <td>47</td>\n",
       "      <td>27</td>\n",
       "      <td>41</td>\n",
       "      <td>1</td>\n",
       "      <td>2</td>\n",
       "      <td>8.8</td>\n",
       "      <td>21.3</td>\n",
       "      <td>19.5</td>\n",
       "      <td>...</td>\n",
       "      <td>0.047</td>\n",
       "      <td>0.140</td>\n",
       "      <td>0.420</td>\n",
       "      <td>0.352</td>\n",
       "      <td>0.2158</td>\n",
       "      <td>0.235</td>\n",
       "      <td>0.310</td>\n",
       "      <td>0.251</td>\n",
       "      <td>0.284</td>\n",
       "      <td>0.291</td>\n",
       "    </tr>\n",
       "    <tr>\n",
       "      <th>4</th>\n",
       "      <td>5</td>\n",
       "      <td>1</td>\n",
       "      <td>47</td>\n",
       "      <td>32</td>\n",
       "      <td>25</td>\n",
       "      <td>2</td>\n",
       "      <td>1</td>\n",
       "      <td>14.9</td>\n",
       "      <td>25.8</td>\n",
       "      <td>18.4</td>\n",
       "      <td>...</td>\n",
       "      <td>0.064</td>\n",
       "      <td>0.118</td>\n",
       "      <td>0.401</td>\n",
       "      <td>0.391</td>\n",
       "      <td>0.1438</td>\n",
       "      <td>0.160</td>\n",
       "      <td>0.246</td>\n",
       "      <td>0.257</td>\n",
       "      <td>0.253</td>\n",
       "      <td>0.255</td>\n",
       "    </tr>\n",
       "  </tbody>\n",
       "</table>\n",
       "<p>5 rows × 25 columns</p>\n",
       "</div>"
      ],
      "text/plain": [
       "   id  Пол  Возраст  Ситуативная_балл  Личностная_балл  Ситуативная_группа  \\\n",
       "0   1    1       31                24               22                   1   \n",
       "1   2    1       31                25               31                   1   \n",
       "2   3    1       39                25               38                   1   \n",
       "3   4    0       47                27               41                   1   \n",
       "4   5    1       47                32               25                   2   \n",
       "\n",
       "   Личностная_группа   0.4   1.0   3.0  ...   ft56   ft67   ft71  ft110  \\\n",
       "0                  1  10.6  13.1  23.4  ...  0.041  0.099  0.483  0.352   \n",
       "1                  2   9.0  17.9  24.2  ...  0.061  0.140  0.421  0.346   \n",
       "2                  2  15.9  15.4  15.6  ...  0.049  0.091  0.453  0.376   \n",
       "3                  2   8.8  21.3  19.5  ...  0.047  0.140  0.420  0.352   \n",
       "4                  1  14.9  25.8  18.4  ...  0.064  0.118  0.401  0.391   \n",
       "\n",
       "     At04   At45   At56   At67   At71  At110  \n",
       "0  0.0600  0.276  0.348  0.299  0.293  0.294  \n",
       "1  0.0562  0.180  0.195  0.196  0.201  0.200  \n",
       "2  0.2647  0.350  0.203  0.439  0.338  0.330  \n",
       "3  0.2158  0.235  0.310  0.251  0.284  0.291  \n",
       "4  0.1438  0.160  0.246  0.257  0.253  0.255  \n",
       "\n",
       "[5 rows x 25 columns]"
      ]
     },
     "execution_count": 77,
     "metadata": {},
     "output_type": "execute_result"
    }
   ],
   "source": [
    "df.head()"
   ]
  },
  {
   "cell_type": "markdown",
   "id": "a9494418",
   "metadata": {},
   "source": [
    "## Проверка корреляций\n",
    "\n",
    "#### Посчитаем отдельно для контрастной чувствительности (КЧ), частоты тремора и амплитуды тремора коэффициент пирсона и визуализируем результат."
   ]
  },
  {
   "cell_type": "code",
   "execution_count": 78,
   "id": "a5a51062",
   "metadata": {},
   "outputs": [
    {
     "data": {
      "text/plain": [
       "<Axes: >"
      ]
     },
     "execution_count": 78,
     "metadata": {},
     "output_type": "execute_result"
    },
    {
     "data": {
      "image/png": "[encoded data removed]",
      "text/plain": [
       "<Figure size 640x480 with 2 Axes>"
      ]
     },
     "metadata": {},
     "output_type": "display_data"
    }
   ],
   "source": [
    "#КЧ\n",
    "all_cols = ['0.4','1.0', '3.0', '10.0']\n",
    "corr_matrix_A = df[all_cols].corr()\n",
    "\n",
    "sns.heatmap(corr_matrix_A, annot=True, cmap='Purples')\n",
    "\n",
    "# считаем, что корреляции допустимые для пострения модели"
   ]
  },
  {
   "cell_type": "code",
   "execution_count": 79,
   "id": "c1a82562",
   "metadata": {},
   "outputs": [
    {
     "data": {
      "text/plain": [
       "<Axes: >"
      ]
     },
     "execution_count": 79,
     "metadata": {},
     "output_type": "execute_result"
    },
    {
     "data": {
      "image/png": "[encoded data removed]",
      "text/plain": [
       "<Figure size 640x480 with 2 Axes>"
      ]
     },
     "metadata": {},
     "output_type": "display_data"
    }
   ],
   "source": [
    "#частота тремора\n",
    "\n",
    "f_cols = ['ft04', 'ft45', 'ft56', 'ft67', 'ft71', 'ft110']\n",
    "\n",
    "# Посчитать коэффициенты корреляции\n",
    "corr_matrix_f = df[f_cols].corr()\n",
    "\n",
    "# Визуализировать корреляционную матрицу\n",
    "sns.heatmap(corr_matrix_f, annot=True, cmap=\"Purples\")"
   ]
  },
  {
   "cell_type": "code",
   "execution_count": 80,
   "id": "6c7e7e83",
   "metadata": {},
   "outputs": [
    {
     "data": {
      "text/plain": [
       "<Axes: >"
      ]
     },
     "execution_count": 80,
     "metadata": {},
     "output_type": "execute_result"
    },
    {
     "data": {
      "image/png": "[encoded data removed]",
      "text/plain": [
       "<Figure size 640x480 with 2 Axes>"
      ]
     },
     "metadata": {},
     "output_type": "display_data"
    }
   ],
   "source": [
    "# амплитуда тремора\n",
    "\n",
    "A_cols = ['At04', 'At45', 'At56', 'At67', 'At71', 'At110']\n",
    "\n",
    "corr_matrix_A = df[A_cols].corr()\n",
    "\n",
    "sns.heatmap(corr_matrix_A, annot=True, cmap=\"Purples\")\n",
    "\n",
    "# сильно коррелируют амплитуды тремора в диапазоне 60-70 (Аt67), 70-100 (Аt71) и 100-110 (Аt110)"
   ]
  },
  {
   "cell_type": "markdown",
   "id": "65af1b6a",
   "metadata": {},
   "source": [
    "## проверка контрастной чувствительности"
   ]
  },
  {
   "cell_type": "code",
   "execution_count": 81,
   "id": "eb39bf5b",
   "metadata": {},
   "outputs": [
    {
     "data": {
      "text/plain": [
       "Index(['id', 'Пол', 'Возраст', 'Ситуативная_балл', 'Личностная_балл',\n",
       "       'Ситуативная_группа', 'Личностная_группа', '0.4', '1.0', '3.0', '10.0',\n",
       "       'mof', 'moA', 'ft04', 'ft45', 'ft56', 'ft67', 'ft71', 'ft110', 'At04',\n",
       "       'At45', 'At56', 'At67', 'At71', 'At110'],\n",
       "      dtype='object')"
      ]
     },
     "execution_count": 81,
     "metadata": {},
     "output_type": "execute_result"
    }
   ],
   "source": [
    "df.columns"
   ]
  },
  {
   "cell_type": "code",
   "execution_count": 82,
   "id": "1e65ad2a",
   "metadata": {},
   "outputs": [
    {
     "data": {
      "text/plain": [
       "<seaborn.axisgrid.PairGrid at 0x1677c98d0>"
      ]
     },
     "execution_count": 82,
     "metadata": {},
     "output_type": "execute_result"
    },
    {
     "data": {
      "image/png": "[encoded data removed]",
      "text/plain": [
       "<Figure size 1500x1500 with 42 Axes>"
      ]
     },
     "metadata": {},
     "output_type": "display_data"
    }
   ],
   "source": [
    "colns = ['Ситуативная_балл','Личностная_балл', '0.4', '1.0','3.0','10.0']\n",
    "sns.pairplot(df[colns])"
   ]
  },
  {
   "cell_type": "code",
   "execution_count": 83,
   "id": "a7144343",
   "metadata": {},
   "outputs": [],
   "source": [
    "df.rename(columns = {'0.4':'cs04','1.0':'cs1', '3.0':'cs3', '10.0':'cs10',}, inplace = True )"
   ]
  },
  {
   "cell_type": "code",
   "execution_count": 84,
   "id": "618b9496",
   "metadata": {},
   "outputs": [
    {
     "data": {
      "text/html": [
       "<div>\n",
       "<style scoped>\n",
       "    .dataframe tbody tr th:only-of-type {\n",
       "        vertical-align: middle;\n",
       "    }\n",
       "\n",
       "    .dataframe tbody tr th {\n",
       "        vertical-align: top;\n",
       "    }\n",
       "\n",
       "    .dataframe thead th {\n",
       "        text-align: right;\n",
       "    }\n",
       "</style>\n",
       "<table border=\"1\" class=\"dataframe\">\n",
       "  <thead>\n",
       "    <tr style=\"text-align: right;\">\n",
       "      <th></th>\n",
       "      <th>VIF</th>\n",
       "    </tr>\n",
       "  </thead>\n",
       "  <tbody>\n",
       "    <tr>\n",
       "      <th>cs04</th>\n",
       "      <td>11.150946</td>\n",
       "    </tr>\n",
       "    <tr>\n",
       "      <th>cs1</th>\n",
       "      <td>9.242245</td>\n",
       "    </tr>\n",
       "    <tr>\n",
       "      <th>cs3</th>\n",
       "      <td>10.916562</td>\n",
       "    </tr>\n",
       "    <tr>\n",
       "      <th>cs10</th>\n",
       "      <td>4.764137</td>\n",
       "    </tr>\n",
       "  </tbody>\n",
       "</table>\n",
       "</div>"
      ],
      "text/plain": [
       "            VIF\n",
       "cs04  11.150946\n",
       "cs1    9.242245\n",
       "cs3   10.916562\n",
       "cs10   4.764137"
      ]
     },
     "execution_count": 84,
     "metadata": {},
     "output_type": "execute_result"
    }
   ],
   "source": [
    "from statsmodels.stats.outliers_influence import variance_inflation_factor\n",
    "df_to_check = df[['cs04', 'cs1','cs3', 'cs10']]\n",
    "vifs = [variance_inflation_factor(df_to_check.values, i) for i in range(df_to_check.shape[1])]\n",
    "pd.DataFrame(vifs, index = df_to_check.columns, columns = ['VIF'])\n",
    "\n",
    "# считаем, что переменные в модели назависимые"
   ]
  },
  {
   "cell_type": "markdown",
   "id": "a00f4c41",
   "metadata": {},
   "source": [
    "# Модель ситуативной тревоги с предикторами контрастной чувствительности\n"
   ]
  },
  {
   "cell_type": "code",
   "execution_count": 85,
   "id": "116509da",
   "metadata": {},
   "outputs": [
    {
     "name": "stdout",
     "output_type": "stream",
     "text": [
      "                            OLS Regression Results                            \n",
      "==============================================================================\n",
      "Dep. Variable:       Ситуативная_балл   R-squared:                       0.000\n",
      "Model:                            OLS   Adj. R-squared:                  0.000\n",
      "Method:                 Least Squares   F-statistic:                       nan\n",
      "Date:                Fri, 28 Apr 2023   Prob (F-statistic):                nan\n",
      "Time:                        14:11:03   Log-Likelihood:                -155.67\n",
      "No. Observations:                  40   AIC:                             313.3\n",
      "Df Residuals:                      39   BIC:                             315.0\n",
      "Df Model:                           0                                         \n",
      "Covariance Type:            nonrobust                                         \n",
      "==============================================================================\n",
      "                 coef    std err          t      P>|t|      [0.025      0.975]\n",
      "------------------------------------------------------------------------------\n",
      "Intercept     44.2500      1.898     23.310      0.000      40.410      48.090\n",
      "==============================================================================\n",
      "Omnibus:                        3.979   Durbin-Watson:                   0.338\n",
      "Prob(Omnibus):                  0.137   Jarque-Bera (JB):                2.753\n",
      "Skew:                           0.589   Prob(JB):                        0.252\n",
      "Kurtosis:                       3.516   Cond. No.                         1.00\n",
      "==============================================================================\n",
      "\n",
      "Notes:\n",
      "[1] Standard Errors assume that the covariance matrix of the errors is correctly specified.\n"
     ]
    }
   ],
   "source": [
    "lm=smf.ols(formula=\"Ситуативная_балл ~ 1\", data=df).fit()\n",
    "print(lm.summary())"
   ]
  },
  {
   "cell_type": "code",
   "execution_count": 86,
   "id": "491192fd",
   "metadata": {},
   "outputs": [
    {
     "data": {
      "text/html": [
       "<div>\n",
       "<style scoped>\n",
       "    .dataframe tbody tr th:only-of-type {\n",
       "        vertical-align: middle;\n",
       "    }\n",
       "\n",
       "    .dataframe tbody tr th {\n",
       "        vertical-align: top;\n",
       "    }\n",
       "\n",
       "    .dataframe thead th {\n",
       "        text-align: right;\n",
       "    }\n",
       "</style>\n",
       "<table border=\"1\" class=\"dataframe\">\n",
       "  <thead>\n",
       "    <tr style=\"text-align: right;\">\n",
       "      <th></th>\n",
       "      <th>W</th>\n",
       "      <th>pval</th>\n",
       "      <th>normal</th>\n",
       "    </tr>\n",
       "  </thead>\n",
       "  <tbody>\n",
       "    <tr>\n",
       "      <th>0</th>\n",
       "      <td>0.968193</td>\n",
       "      <td>0.314979</td>\n",
       "      <td>True</td>\n",
       "    </tr>\n",
       "  </tbody>\n",
       "</table>\n",
       "</div>"
      ],
      "text/plain": [
       "          W      pval  normal\n",
       "0  0.968193  0.314979    True"
      ]
     },
     "execution_count": 86,
     "metadata": {},
     "output_type": "execute_result"
    },
    {
     "data": {
      "image/png": "[encoded data removed]",
      "text/plain": [
       "<Figure size 1000x300 with 2 Axes>"
      ]
     },
     "metadata": {},
     "output_type": "display_data"
    }
   ],
   "source": [
    "fig, axs = plt.subplots(1,2, figsize = (10,3))\n",
    "axs[0].hist(lm.resid)\n",
    "pg.qqplot(lm.resid, ax=axs[1]);\n",
    "pg.normality(lm.resid)"
   ]
  },
  {
   "cell_type": "code",
   "execution_count": null,
   "id": "513d935d",
   "metadata": {},
   "outputs": [],
   "source": []
  },
  {
   "cell_type": "code",
   "execution_count": 87,
   "id": "c60c448b",
   "metadata": {},
   "outputs": [
    {
     "data": {
      "text/plain": [
       "Index(['id', 'Пол', 'Возраст', 'Ситуативная_балл', 'Личностная_балл',\n",
       "       'Ситуативная_группа', 'Личностная_группа', 'cs04', 'cs1', 'cs3', 'cs10',\n",
       "       'mof', 'moA', 'ft04', 'ft45', 'ft56', 'ft67', 'ft71', 'ft110', 'At04',\n",
       "       'At45', 'At56', 'At67', 'At71', 'At110'],\n",
       "      dtype='object')"
      ]
     },
     "execution_count": 87,
     "metadata": {},
     "output_type": "execute_result"
    }
   ],
   "source": [
    "df.columns"
   ]
  },
  {
   "cell_type": "markdown",
   "id": "c6cedc7f",
   "metadata": {},
   "source": [
    "\n",
    "\n",
    "# модель личностной тревоги с предикторами КЧ"
   ]
  },
  {
   "cell_type": "code",
   "execution_count": 88,
   "id": "61a426ce",
   "metadata": {},
   "outputs": [
    {
     "data": {
      "text/html": [
       "<div>\n",
       "<style scoped>\n",
       "    .dataframe tbody tr th:only-of-type {\n",
       "        vertical-align: middle;\n",
       "    }\n",
       "\n",
       "    .dataframe tbody tr th {\n",
       "        vertical-align: top;\n",
       "    }\n",
       "\n",
       "    .dataframe thead th {\n",
       "        text-align: right;\n",
       "    }\n",
       "</style>\n",
       "<table border=\"1\" class=\"dataframe\">\n",
       "  <thead>\n",
       "    <tr style=\"text-align: right;\">\n",
       "      <th></th>\n",
       "      <th>VIF</th>\n",
       "    </tr>\n",
       "  </thead>\n",
       "  <tbody>\n",
       "    <tr>\n",
       "      <th>cs04</th>\n",
       "      <td>11.150946</td>\n",
       "    </tr>\n",
       "    <tr>\n",
       "      <th>cs1</th>\n",
       "      <td>9.242245</td>\n",
       "    </tr>\n",
       "    <tr>\n",
       "      <th>cs3</th>\n",
       "      <td>10.916562</td>\n",
       "    </tr>\n",
       "    <tr>\n",
       "      <th>cs10</th>\n",
       "      <td>4.764137</td>\n",
       "    </tr>\n",
       "  </tbody>\n",
       "</table>\n",
       "</div>"
      ],
      "text/plain": [
       "            VIF\n",
       "cs04  11.150946\n",
       "cs1    9.242245\n",
       "cs3   10.916562\n",
       "cs10   4.764137"
      ]
     },
     "execution_count": 88,
     "metadata": {},
     "output_type": "execute_result"
    }
   ],
   "source": [
    "from statsmodels.stats.outliers_influence import variance_inflation_factor\n",
    "df_to_check = df[['cs04', 'cs1','cs3', 'cs10']]\n",
    "vifs = [variance_inflation_factor(df_to_check.values, i) for i in range(df_to_check.shape[1])]\n",
    "pd.DataFrame(vifs, index = df_to_check.columns, columns = ['VIF'])"
   ]
  },
  {
   "cell_type": "code",
   "execution_count": 89,
   "id": "c1de97fe",
   "metadata": {},
   "outputs": [
    {
     "name": "stdout",
     "output_type": "stream",
     "text": [
      "                            OLS Regression Results                            \n",
      "==============================================================================\n",
      "Dep. Variable:        Личностная_балл   R-squared:                       0.000\n",
      "Model:                            OLS   Adj. R-squared:                  0.000\n",
      "Method:                 Least Squares   F-statistic:                       nan\n",
      "Date:                Fri, 28 Apr 2023   Prob (F-statistic):                nan\n",
      "Time:                        14:11:03   Log-Likelihood:                -154.89\n",
      "No. Observations:                  40   AIC:                             311.8\n",
      "Df Residuals:                      39   BIC:                             313.5\n",
      "Df Model:                           0                                         \n",
      "Covariance Type:            nonrobust                                         \n",
      "==============================================================================\n",
      "                 coef    std err          t      P>|t|      [0.025      0.975]\n",
      "------------------------------------------------------------------------------\n",
      "Intercept     46.0500      1.862     24.733      0.000      42.284      49.816\n",
      "==============================================================================\n",
      "Omnibus:                        2.858   Durbin-Watson:                   0.137\n",
      "Prob(Omnibus):                  0.240   Jarque-Bera (JB):                1.924\n",
      "Skew:                           0.520   Prob(JB):                        0.382\n",
      "Kurtosis:                       3.273   Cond. No.                         1.00\n",
      "==============================================================================\n",
      "\n",
      "Notes:\n",
      "[1] Standard Errors assume that the covariance matrix of the errors is correctly specified.\n"
     ]
    }
   ],
   "source": [
    "lm=smf.ols(formula=\"Личностная_балл ~ 1\", data=df).fit()\n",
    "print(lm.summary())"
   ]
  },
  {
   "cell_type": "code",
   "execution_count": 90,
   "id": "15872c18",
   "metadata": {},
   "outputs": [
    {
     "data": {
      "text/html": [
       "<div>\n",
       "<style scoped>\n",
       "    .dataframe tbody tr th:only-of-type {\n",
       "        vertical-align: middle;\n",
       "    }\n",
       "\n",
       "    .dataframe tbody tr th {\n",
       "        vertical-align: top;\n",
       "    }\n",
       "\n",
       "    .dataframe thead th {\n",
       "        text-align: right;\n",
       "    }\n",
       "</style>\n",
       "<table border=\"1\" class=\"dataframe\">\n",
       "  <thead>\n",
       "    <tr style=\"text-align: right;\">\n",
       "      <th></th>\n",
       "      <th>W</th>\n",
       "      <th>pval</th>\n",
       "      <th>normal</th>\n",
       "    </tr>\n",
       "  </thead>\n",
       "  <tbody>\n",
       "    <tr>\n",
       "      <th>0</th>\n",
       "      <td>0.962001</td>\n",
       "      <td>0.195975</td>\n",
       "      <td>True</td>\n",
       "    </tr>\n",
       "  </tbody>\n",
       "</table>\n",
       "</div>"
      ],
      "text/plain": [
       "          W      pval  normal\n",
       "0  0.962001  0.195975    True"
      ]
     },
     "execution_count": 90,
     "metadata": {},
     "output_type": "execute_result"
    },
    {
     "data": {
      "image/png": "[encoded data removed]",
      "text/plain": [
       "<Figure size 1000x300 with 2 Axes>"
      ]
     },
     "metadata": {},
     "output_type": "display_data"
    }
   ],
   "source": [
    "fig, axs = plt.subplots(1,2, figsize = (10,3))\n",
    "axs[0].hist(lm.resid)\n",
    "pg.qqplot(lm.resid, ax=axs[1]);\n",
    "pg.normality(lm.resid)"
   ]
  },
  {
   "cell_type": "code",
   "execution_count": 91,
   "id": "f50851af",
   "metadata": {},
   "outputs": [
    {
     "name": "stdout",
     "output_type": "stream",
     "text": [
      "                            OLS Regression Results                            \n",
      "==============================================================================\n",
      "Dep. Variable:        Личностная_балл   R-squared:                       0.009\n",
      "Model:                            OLS   Adj. R-squared:                 -0.017\n",
      "Method:                 Least Squares   F-statistic:                    0.3580\n",
      "Date:                Fri, 28 Apr 2023   Prob (F-statistic):              0.553\n",
      "Time:                        14:11:04   Log-Likelihood:                -154.70\n",
      "No. Observations:                  40   AIC:                             313.4\n",
      "Df Residuals:                      38   BIC:                             316.8\n",
      "Df Model:                           1                                         \n",
      "Covariance Type:            nonrobust                                         \n",
      "=====================================================================================\n",
      "                        coef    std err          t      P>|t|      [0.025      0.975]\n",
      "-------------------------------------------------------------------------------------\n",
      "Intercept            46.0500      1.877     24.529      0.000      42.249      49.851\n",
      "standardize(cs04)     1.1233      1.877      0.598      0.553      -2.677       4.924\n",
      "==============================================================================\n",
      "Omnibus:                        3.162   Durbin-Watson:                   0.181\n",
      "Prob(Omnibus):                  0.206   Jarque-Bera (JB):                2.210\n",
      "Skew:                           0.561   Prob(JB):                        0.331\n",
      "Kurtosis:                       3.263   Cond. No.                         1.00\n",
      "==============================================================================\n",
      "\n",
      "Notes:\n",
      "[1] Standard Errors assume that the covariance matrix of the errors is correctly specified.\n"
     ]
    }
   ],
   "source": [
    "lm=smf.ols(formula=\"Личностная_балл ~ standardize(cs04)\", data=df).fit()\n",
    "print(lm.summary())"
   ]
  },
  {
   "cell_type": "code",
   "execution_count": 92,
   "id": "e8c6ed7a",
   "metadata": {},
   "outputs": [
    {
     "name": "stdout",
     "output_type": "stream",
     "text": [
      "                            OLS Regression Results                            \n",
      "==============================================================================\n",
      "Dep. Variable:        Личностная_балл   R-squared:                       0.009\n",
      "Model:                            OLS   Adj. R-squared:                 -0.044\n",
      "Method:                 Least Squares   F-statistic:                    0.1743\n",
      "Date:                Fri, 28 Apr 2023   Prob (F-statistic):              0.841\n",
      "Time:                        14:11:04   Log-Likelihood:                -154.70\n",
      "No. Observations:                  40   AIC:                             315.4\n",
      "Df Residuals:                      37   BIC:                             320.5\n",
      "Df Model:                           2                                         \n",
      "Covariance Type:            nonrobust                                         \n",
      "=====================================================================================\n",
      "                        coef    std err          t      P>|t|      [0.025      0.975]\n",
      "-------------------------------------------------------------------------------------\n",
      "Intercept            46.0500      1.903     24.204      0.000      42.195      49.905\n",
      "standardize(cs04)     1.1285      1.973      0.572      0.571      -2.869       5.126\n",
      "standardize(cs1)     -0.0198      1.973     -0.010      0.992      -4.017       3.978\n",
      "==============================================================================\n",
      "Omnibus:                        3.163   Durbin-Watson:                   0.180\n",
      "Prob(Omnibus):                  0.206   Jarque-Bera (JB):                2.211\n",
      "Skew:                           0.561   Prob(JB):                        0.331\n",
      "Kurtosis:                       3.263   Cond. No.                         1.31\n",
      "==============================================================================\n",
      "\n",
      "Notes:\n",
      "[1] Standard Errors assume that the covariance matrix of the errors is correctly specified.\n"
     ]
    }
   ],
   "source": [
    "lm=smf.ols(formula=\"Личностная_балл ~ standardize(cs04)+standardize(cs1)\", data=df).fit()\n",
    "print(lm.summary())"
   ]
  },
  {
   "cell_type": "code",
   "execution_count": 93,
   "id": "f4cc82ac",
   "metadata": {},
   "outputs": [
    {
     "name": "stdout",
     "output_type": "stream",
     "text": [
      "                            OLS Regression Results                            \n",
      "==============================================================================\n",
      "Dep. Variable:        Личностная_балл   R-squared:                       0.162\n",
      "Model:                            OLS   Adj. R-squared:                  0.092\n",
      "Method:                 Least Squares   F-statistic:                     2.321\n",
      "Date:                Fri, 28 Apr 2023   Prob (F-statistic):             0.0916\n",
      "Time:                        14:11:04   Log-Likelihood:                -151.36\n",
      "No. Observations:                  40   AIC:                             310.7\n",
      "Df Residuals:                      36   BIC:                             317.5\n",
      "Df Model:                           3                                         \n",
      "Covariance Type:            nonrobust                                         \n",
      "=====================================================================================\n",
      "                        coef    std err          t      P>|t|      [0.025      0.975]\n",
      "-------------------------------------------------------------------------------------\n",
      "Intercept            46.0500      1.774     25.960      0.000      42.452      49.648\n",
      "standardize(cs04)     1.8558      1.861      0.997      0.325      -1.919       5.630\n",
      "standardize(cs1)      0.3575      1.845      0.194      0.847      -3.385       4.100\n",
      "standardize(cs3)     -4.6334      1.809     -2.562      0.015      -8.301      -0.965\n",
      "==============================================================================\n",
      "Omnibus:                        9.153   Durbin-Watson:                   0.483\n",
      "Prob(Omnibus):                  0.010   Jarque-Bera (JB):                8.121\n",
      "Skew:                           1.017   Prob(JB):                       0.0172\n",
      "Kurtosis:                       3.859   Cond. No.                         1.38\n",
      "==============================================================================\n",
      "\n",
      "Notes:\n",
      "[1] Standard Errors assume that the covariance matrix of the errors is correctly specified.\n"
     ]
    }
   ],
   "source": [
    "lm=smf.ols(formula=\"Личностная_балл ~ standardize(cs04)+standardize(cs1)+ standardize(cs3)\", data=df).fit()\n",
    "print(lm.summary())"
   ]
  },
  {
   "cell_type": "code",
   "execution_count": 94,
   "id": "e109457b",
   "metadata": {},
   "outputs": [
    {
     "name": "stdout",
     "output_type": "stream",
     "text": [
      "                            OLS Regression Results                            \n",
      "==============================================================================\n",
      "Dep. Variable:        Личностная_балл   R-squared:                       0.196\n",
      "Model:                            OLS   Adj. R-squared:                  0.104\n",
      "Method:                 Least Squares   F-statistic:                     2.135\n",
      "Date:                Fri, 28 Apr 2023   Prob (F-statistic):             0.0971\n",
      "Time:                        14:11:04   Log-Likelihood:                -150.53\n",
      "No. Observations:                  40   AIC:                             311.1\n",
      "Df Residuals:                      35   BIC:                             319.5\n",
      "Df Model:                           4                                         \n",
      "Covariance Type:            nonrobust                                         \n",
      "=====================================================================================\n",
      "                        coef    std err          t      P>|t|      [0.025      0.975]\n",
      "-------------------------------------------------------------------------------------\n",
      "Intercept            46.0500      1.762     26.133      0.000      42.473      49.627\n",
      "standardize(cs04)     1.6280      1.858      0.876      0.387      -2.144       5.400\n",
      "standardize(cs1)      0.4994      1.837      0.272      0.787      -3.229       4.228\n",
      "standardize(cs3)     -5.4898      1.929     -2.845      0.007      -9.407      -1.573\n",
      "standardize(cs10)     2.3309      1.914      1.218      0.231      -1.555       6.217\n",
      "==============================================================================\n",
      "Omnibus:                        9.055   Durbin-Watson:                   0.556\n",
      "Prob(Omnibus):                  0.011   Jarque-Bera (JB):                8.119\n",
      "Skew:                           1.047   Prob(JB):                       0.0173\n",
      "Kurtosis:                       3.695   Cond. No.                         1.61\n",
      "==============================================================================\n",
      "\n",
      "Notes:\n",
      "[1] Standard Errors assume that the covariance matrix of the errors is correctly specified.\n"
     ]
    }
   ],
   "source": [
    "lm=smf.ols(formula=\"Личностная_балл ~ standardize(cs04)+standardize(cs1)+ standardize(cs3)+ standardize(cs10) \", data=df).fit()\n",
    "print(lm.summary())"
   ]
  },
  {
   "cell_type": "markdown",
   "id": "8e23f009",
   "metadata": {},
   "source": [
    "## Выводы:\n",
    "1. Log-Likelihood снижается с каждым новым добавлением предиктора\n",
    "2. Значимость есть только на частоте 3.0 (р<0.05)\n",
    "# Строим модель ситуативной тревоги с предикторами КЧ"
   ]
  },
  {
   "cell_type": "code",
   "execution_count": 95,
   "id": "405a9ce2",
   "metadata": {},
   "outputs": [
    {
     "data": {
      "text/html": [
       "<div>\n",
       "<style scoped>\n",
       "    .dataframe tbody tr th:only-of-type {\n",
       "        vertical-align: middle;\n",
       "    }\n",
       "\n",
       "    .dataframe tbody tr th {\n",
       "        vertical-align: top;\n",
       "    }\n",
       "\n",
       "    .dataframe thead th {\n",
       "        text-align: right;\n",
       "    }\n",
       "</style>\n",
       "<table border=\"1\" class=\"dataframe\">\n",
       "  <thead>\n",
       "    <tr style=\"text-align: right;\">\n",
       "      <th></th>\n",
       "      <th>VIF</th>\n",
       "    </tr>\n",
       "  </thead>\n",
       "  <tbody>\n",
       "    <tr>\n",
       "      <th>cs04</th>\n",
       "      <td>11.150946</td>\n",
       "    </tr>\n",
       "    <tr>\n",
       "      <th>cs1</th>\n",
       "      <td>9.242245</td>\n",
       "    </tr>\n",
       "    <tr>\n",
       "      <th>cs3</th>\n",
       "      <td>10.916562</td>\n",
       "    </tr>\n",
       "    <tr>\n",
       "      <th>cs10</th>\n",
       "      <td>4.764137</td>\n",
       "    </tr>\n",
       "  </tbody>\n",
       "</table>\n",
       "</div>"
      ],
      "text/plain": [
       "            VIF\n",
       "cs04  11.150946\n",
       "cs1    9.242245\n",
       "cs3   10.916562\n",
       "cs10   4.764137"
      ]
     },
     "execution_count": 95,
     "metadata": {},
     "output_type": "execute_result"
    }
   ],
   "source": [
    "from statsmodels.stats.outliers_influence import variance_inflation_factor\n",
    "df_to_check = df[['cs04', 'cs1','cs3', 'cs10']]\n",
    "vifs = [variance_inflation_factor(df_to_check.values, i) for i in range(df_to_check.shape[1])]\n",
    "pd.DataFrame(vifs, index = df_to_check.columns, columns = ['VIF'])"
   ]
  },
  {
   "cell_type": "code",
   "execution_count": 96,
   "id": "4247c619",
   "metadata": {},
   "outputs": [
    {
     "name": "stdout",
     "output_type": "stream",
     "text": [
      "                            OLS Regression Results                            \n",
      "==============================================================================\n",
      "Dep. Variable:       Ситуативная_балл   R-squared:                       0.000\n",
      "Model:                            OLS   Adj. R-squared:                  0.000\n",
      "Method:                 Least Squares   F-statistic:                       nan\n",
      "Date:                Fri, 28 Apr 2023   Prob (F-statistic):                nan\n",
      "Time:                        14:11:04   Log-Likelihood:                -155.67\n",
      "No. Observations:                  40   AIC:                             313.3\n",
      "Df Residuals:                      39   BIC:                             315.0\n",
      "Df Model:                           0                                         \n",
      "Covariance Type:            nonrobust                                         \n",
      "==============================================================================\n",
      "                 coef    std err          t      P>|t|      [0.025      0.975]\n",
      "------------------------------------------------------------------------------\n",
      "Intercept     44.2500      1.898     23.310      0.000      40.410      48.090\n",
      "==============================================================================\n",
      "Omnibus:                        3.979   Durbin-Watson:                   0.338\n",
      "Prob(Omnibus):                  0.137   Jarque-Bera (JB):                2.753\n",
      "Skew:                           0.589   Prob(JB):                        0.252\n",
      "Kurtosis:                       3.516   Cond. No.                         1.00\n",
      "==============================================================================\n",
      "\n",
      "Notes:\n",
      "[1] Standard Errors assume that the covariance matrix of the errors is correctly specified.\n"
     ]
    }
   ],
   "source": [
    "lm=smf.ols(formula=\"Ситуативная_балл ~ 1\", data=df).fit()\n",
    "print(lm.summary())"
   ]
  },
  {
   "cell_type": "code",
   "execution_count": 97,
   "id": "7aab3698",
   "metadata": {},
   "outputs": [
    {
     "data": {
      "text/html": [
       "<div>\n",
       "<style scoped>\n",
       "    .dataframe tbody tr th:only-of-type {\n",
       "        vertical-align: middle;\n",
       "    }\n",
       "\n",
       "    .dataframe tbody tr th {\n",
       "        vertical-align: top;\n",
       "    }\n",
       "\n",
       "    .dataframe thead th {\n",
       "        text-align: right;\n",
       "    }\n",
       "</style>\n",
       "<table border=\"1\" class=\"dataframe\">\n",
       "  <thead>\n",
       "    <tr style=\"text-align: right;\">\n",
       "      <th></th>\n",
       "      <th>W</th>\n",
       "      <th>pval</th>\n",
       "      <th>normal</th>\n",
       "    </tr>\n",
       "  </thead>\n",
       "  <tbody>\n",
       "    <tr>\n",
       "      <th>0</th>\n",
       "      <td>0.968193</td>\n",
       "      <td>0.314979</td>\n",
       "      <td>True</td>\n",
       "    </tr>\n",
       "  </tbody>\n",
       "</table>\n",
       "</div>"
      ],
      "text/plain": [
       "          W      pval  normal\n",
       "0  0.968193  0.314979    True"
      ]
     },
     "execution_count": 97,
     "metadata": {},
     "output_type": "execute_result"
    },
    {
     "data": {
      "image/png": "[encoded data removed]",
      "text/plain": [
       "<Figure size 1000x300 with 2 Axes>"
      ]
     },
     "metadata": {},
     "output_type": "display_data"
    }
   ],
   "source": [
    "fig, axs = plt.subplots(1,2, figsize = (10,3))\n",
    "axs[0].hist(lm.resid)\n",
    "pg.qqplot(lm.resid, ax=axs[1]);\n",
    "pg.normality(lm.resid)\n",
    "\n",
    "# точки сильно отклоняются от прямой (что делать?)"
   ]
  },
  {
   "cell_type": "code",
   "execution_count": 98,
   "id": "e60127ff",
   "metadata": {},
   "outputs": [
    {
     "name": "stdout",
     "output_type": "stream",
     "text": [
      "                            OLS Regression Results                            \n",
      "==============================================================================\n",
      "Dep. Variable:       Ситуативная_балл   R-squared:                       0.048\n",
      "Model:                            OLS   Adj. R-squared:                  0.023\n",
      "Method:                 Least Squares   F-statistic:                     1.927\n",
      "Date:                Fri, 28 Apr 2023   Prob (F-statistic):              0.173\n",
      "Time:                        14:11:04   Log-Likelihood:                -154.68\n",
      "No. Observations:                  40   AIC:                             313.4\n",
      "Df Residuals:                      38   BIC:                             316.7\n",
      "Df Model:                           1                                         \n",
      "Covariance Type:            nonrobust                                         \n",
      "=====================================================================================\n",
      "                        coef    std err          t      P>|t|      [0.025      0.975]\n",
      "-------------------------------------------------------------------------------------\n",
      "Intercept            44.2500      1.876     23.586      0.000      40.452      48.048\n",
      "standardize(cs04)     2.6046      1.876      1.388      0.173      -1.193       6.403\n",
      "==============================================================================\n",
      "Omnibus:                        3.637   Durbin-Watson:                   0.423\n",
      "Prob(Omnibus):                  0.162   Jarque-Bera (JB):                2.565\n",
      "Skew:                           0.595   Prob(JB):                        0.277\n",
      "Kurtosis:                       3.349   Cond. No.                         1.00\n",
      "==============================================================================\n",
      "\n",
      "Notes:\n",
      "[1] Standard Errors assume that the covariance matrix of the errors is correctly specified.\n"
     ]
    }
   ],
   "source": [
    "lm=smf.ols(formula=\"Ситуативная_балл ~ standardize(cs04)\", data=df).fit()\n",
    "print(lm.summary())"
   ]
  },
  {
   "cell_type": "code",
   "execution_count": 99,
   "id": "f49e3b5c",
   "metadata": {},
   "outputs": [
    {
     "name": "stdout",
     "output_type": "stream",
     "text": [
      "                            OLS Regression Results                            \n",
      "==============================================================================\n",
      "Dep. Variable:       Ситуативная_балл   R-squared:                       0.062\n",
      "Model:                            OLS   Adj. R-squared:                  0.011\n",
      "Method:                 Least Squares   F-statistic:                     1.224\n",
      "Date:                Fri, 28 Apr 2023   Prob (F-statistic):              0.306\n",
      "Time:                        14:11:04   Log-Likelihood:                -154.39\n",
      "No. Observations:                  40   AIC:                             314.8\n",
      "Df Residuals:                      37   BIC:                             319.8\n",
      "Df Model:                           2                                         \n",
      "Covariance Type:            nonrobust                                         \n",
      "=====================================================================================\n",
      "                        coef    std err          t      P>|t|      [0.025      0.975]\n",
      "-------------------------------------------------------------------------------------\n",
      "Intercept            44.2500      1.887     23.444      0.000      40.426      48.074\n",
      "standardize(cs04)     2.2228      1.957      1.136      0.263      -1.743       6.188\n",
      "standardize(cs1)      1.4437      1.957      0.738      0.465      -2.522       5.409\n",
      "==============================================================================\n",
      "Omnibus:                        3.201   Durbin-Watson:                   0.398\n",
      "Prob(Omnibus):                  0.202   Jarque-Bera (JB):                2.376\n",
      "Skew:                           0.592   Prob(JB):                        0.305\n",
      "Kurtosis:                       3.150   Cond. No.                         1.31\n",
      "==============================================================================\n",
      "\n",
      "Notes:\n",
      "[1] Standard Errors assume that the covariance matrix of the errors is correctly specified.\n"
     ]
    }
   ],
   "source": [
    "lm=smf.ols(formula=\"Ситуативная_балл ~ standardize(cs04)+standardize(cs1)\", data=df).fit()\n",
    "print(lm.summary())"
   ]
  },
  {
   "cell_type": "code",
   "execution_count": 100,
   "id": "57271a75",
   "metadata": {},
   "outputs": [
    {
     "name": "stdout",
     "output_type": "stream",
     "text": [
      "                            OLS Regression Results                            \n",
      "==============================================================================\n",
      "Dep. Variable:       Ситуативная_балл   R-squared:                       0.200\n",
      "Model:                            OLS   Adj. R-squared:                  0.133\n",
      "Method:                 Least Squares   F-statistic:                     3.003\n",
      "Date:                Fri, 28 Apr 2023   Prob (F-statistic):             0.0431\n",
      "Time:                        14:11:04   Log-Likelihood:                -151.20\n",
      "No. Observations:                  40   AIC:                             310.4\n",
      "Df Residuals:                      36   BIC:                             317.2\n",
      "Df Model:                           3                                         \n",
      "Covariance Type:            nonrobust                                         \n",
      "=====================================================================================\n",
      "                        coef    std err          t      P>|t|      [0.025      0.975]\n",
      "-------------------------------------------------------------------------------------\n",
      "Intercept            44.2500      1.767     25.041      0.000      40.666      47.834\n",
      "standardize(cs04)     2.9278      1.854      1.579      0.123      -0.832       6.688\n",
      "standardize(cs1)      1.8095      1.838      0.984      0.331      -1.919       5.537\n",
      "standardize(cs3)     -4.4912      1.802     -2.493      0.017      -8.145      -0.837\n",
      "==============================================================================\n",
      "Omnibus:                        7.848   Durbin-Watson:                   0.721\n",
      "Prob(Omnibus):                  0.020   Jarque-Bera (JB):                6.587\n",
      "Skew:                           0.893   Prob(JB):                       0.0371\n",
      "Kurtosis:                       3.872   Cond. No.                         1.38\n",
      "==============================================================================\n",
      "\n",
      "Notes:\n",
      "[1] Standard Errors assume that the covariance matrix of the errors is correctly specified.\n"
     ]
    }
   ],
   "source": [
    "lm=smf.ols(formula=\"Ситуативная_балл ~ standardize(cs04)+standardize(cs1)+ standardize(cs3)\", data=df).fit()\n",
    "print(lm.summary())"
   ]
  },
  {
   "cell_type": "code",
   "execution_count": 101,
   "id": "61f59b2d",
   "metadata": {},
   "outputs": [
    {
     "name": "stdout",
     "output_type": "stream",
     "text": [
      "                            OLS Regression Results                            \n",
      "==============================================================================\n",
      "Dep. Variable:       Ситуативная_балл   R-squared:                       0.211\n",
      "Model:                            OLS   Adj. R-squared:                  0.121\n",
      "Method:                 Least Squares   F-statistic:                     2.346\n",
      "Date:                Fri, 28 Apr 2023   Prob (F-statistic):             0.0736\n",
      "Time:                        14:11:04   Log-Likelihood:                -150.92\n",
      "No. Observations:                  40   AIC:                             311.8\n",
      "Df Residuals:                      35   BIC:                             320.3\n",
      "Df Model:                           4                                         \n",
      "Covariance Type:            nonrobust                                         \n",
      "=====================================================================================\n",
      "                        coef    std err          t      P>|t|      [0.025      0.975]\n",
      "-------------------------------------------------------------------------------------\n",
      "Intercept            44.2500      1.779     24.867      0.000      40.638      47.862\n",
      "standardize(cs04)     2.7940      1.877      1.489      0.145      -1.015       6.604\n",
      "standardize(cs1)      1.8928      1.855      1.020      0.315      -1.873       5.658\n",
      "standardize(cs3)     -4.9941      1.948     -2.563      0.015      -8.949      -1.039\n",
      "standardize(cs10)     1.3685      1.933      0.708      0.484      -2.555       5.292\n",
      "==============================================================================\n",
      "Omnibus:                        8.949   Durbin-Watson:                   0.801\n",
      "Prob(Omnibus):                  0.011   Jarque-Bera (JB):                7.848\n",
      "Skew:                           0.966   Prob(JB):                       0.0198\n",
      "Kurtosis:                       3.987   Cond. No.                         1.61\n",
      "==============================================================================\n",
      "\n",
      "Notes:\n",
      "[1] Standard Errors assume that the covariance matrix of the errors is correctly specified.\n"
     ]
    }
   ],
   "source": [
    "lm=smf.ols(formula=\"Ситуативная_балл ~ standardize(cs04)+standardize(cs1)+ standardize(cs3)+ standardize(cs10) \", data=df).fit()\n",
    "print(lm.summary())"
   ]
  },
  {
   "cell_type": "markdown",
   "id": "adb4d457",
   "metadata": {},
   "source": [
    "## Выводы:\n",
    "1. Log-Likelihood с каждым новым предиктором снижается,  \n",
    "2. Значимость обнаружена только на частоте 3.0\n",
    "### Пробуем перевернуть таблицу и строим новые модели "
   ]
  },
  {
   "cell_type": "code",
   "execution_count": 102,
   "id": "f66fcf4e",
   "metadata": {},
   "outputs": [],
   "source": [
    "df_melted = pd.melt(df, id_vars =['id','Ситуативная_балл','Личностная_балл'], value_vars =['cs04','cs1','cs3','cs10'])"
   ]
  },
  {
   "cell_type": "code",
   "execution_count": 103,
   "id": "746ed54a",
   "metadata": {},
   "outputs": [
    {
     "data": {
      "text/html": [
       "<div>\n",
       "<style scoped>\n",
       "    .dataframe tbody tr th:only-of-type {\n",
       "        vertical-align: middle;\n",
       "    }\n",
       "\n",
       "    .dataframe tbody tr th {\n",
       "        vertical-align: top;\n",
       "    }\n",
       "\n",
       "    .dataframe thead th {\n",
       "        text-align: right;\n",
       "    }\n",
       "</style>\n",
       "<table border=\"1\" class=\"dataframe\">\n",
       "  <thead>\n",
       "    <tr style=\"text-align: right;\">\n",
       "      <th></th>\n",
       "      <th>id</th>\n",
       "      <th>Ситуативная_балл</th>\n",
       "      <th>Личностная_балл</th>\n",
       "      <th>variable</th>\n",
       "      <th>value</th>\n",
       "    </tr>\n",
       "  </thead>\n",
       "  <tbody>\n",
       "    <tr>\n",
       "      <th>0</th>\n",
       "      <td>1</td>\n",
       "      <td>24</td>\n",
       "      <td>22</td>\n",
       "      <td>cs04</td>\n",
       "      <td>10.6</td>\n",
       "    </tr>\n",
       "    <tr>\n",
       "      <th>1</th>\n",
       "      <td>2</td>\n",
       "      <td>25</td>\n",
       "      <td>31</td>\n",
       "      <td>cs04</td>\n",
       "      <td>9.0</td>\n",
       "    </tr>\n",
       "    <tr>\n",
       "      <th>2</th>\n",
       "      <td>3</td>\n",
       "      <td>25</td>\n",
       "      <td>38</td>\n",
       "      <td>cs04</td>\n",
       "      <td>15.9</td>\n",
       "    </tr>\n",
       "    <tr>\n",
       "      <th>3</th>\n",
       "      <td>4</td>\n",
       "      <td>27</td>\n",
       "      <td>41</td>\n",
       "      <td>cs04</td>\n",
       "      <td>8.8</td>\n",
       "    </tr>\n",
       "    <tr>\n",
       "      <th>4</th>\n",
       "      <td>5</td>\n",
       "      <td>32</td>\n",
       "      <td>25</td>\n",
       "      <td>cs04</td>\n",
       "      <td>14.9</td>\n",
       "    </tr>\n",
       "    <tr>\n",
       "      <th>...</th>\n",
       "      <td>...</td>\n",
       "      <td>...</td>\n",
       "      <td>...</td>\n",
       "      <td>...</td>\n",
       "      <td>...</td>\n",
       "    </tr>\n",
       "    <tr>\n",
       "      <th>155</th>\n",
       "      <td>36</td>\n",
       "      <td>52</td>\n",
       "      <td>63</td>\n",
       "      <td>cs10</td>\n",
       "      <td>10.0</td>\n",
       "    </tr>\n",
       "    <tr>\n",
       "      <th>156</th>\n",
       "      <td>37</td>\n",
       "      <td>49</td>\n",
       "      <td>66</td>\n",
       "      <td>cs10</td>\n",
       "      <td>3.9</td>\n",
       "    </tr>\n",
       "    <tr>\n",
       "      <th>157</th>\n",
       "      <td>38</td>\n",
       "      <td>53</td>\n",
       "      <td>68</td>\n",
       "      <td>cs10</td>\n",
       "      <td>5.9</td>\n",
       "    </tr>\n",
       "    <tr>\n",
       "      <th>158</th>\n",
       "      <td>39</td>\n",
       "      <td>79</td>\n",
       "      <td>72</td>\n",
       "      <td>cs10</td>\n",
       "      <td>5.2</td>\n",
       "    </tr>\n",
       "    <tr>\n",
       "      <th>159</th>\n",
       "      <td>40</td>\n",
       "      <td>67</td>\n",
       "      <td>75</td>\n",
       "      <td>cs10</td>\n",
       "      <td>9.5</td>\n",
       "    </tr>\n",
       "  </tbody>\n",
       "</table>\n",
       "<p>160 rows × 5 columns</p>\n",
       "</div>"
      ],
      "text/plain": [
       "     id  Ситуативная_балл  Личностная_балл variable  value\n",
       "0     1                24               22     cs04   10.6\n",
       "1     2                25               31     cs04    9.0\n",
       "2     3                25               38     cs04   15.9\n",
       "3     4                27               41     cs04    8.8\n",
       "4     5                32               25     cs04   14.9\n",
       "..   ..               ...              ...      ...    ...\n",
       "155  36                52               63     cs10   10.0\n",
       "156  37                49               66     cs10    3.9\n",
       "157  38                53               68     cs10    5.9\n",
       "158  39                79               72     cs10    5.2\n",
       "159  40                67               75     cs10    9.5\n",
       "\n",
       "[160 rows x 5 columns]"
      ]
     },
     "execution_count": 103,
     "metadata": {},
     "output_type": "execute_result"
    }
   ],
   "source": [
    "df_melted"
   ]
  },
  {
   "cell_type": "code",
   "execution_count": 104,
   "id": "97cd5318",
   "metadata": {},
   "outputs": [
    {
     "name": "stdout",
     "output_type": "stream",
     "text": [
      "                            OLS Regression Results                            \n",
      "==============================================================================\n",
      "Dep. Variable:                  value   R-squared:                      -0.000\n",
      "Model:                            OLS   Adj. R-squared:                 -0.000\n",
      "Method:                 Least Squares   F-statistic:                       nan\n",
      "Date:                Fri, 28 Apr 2023   Prob (F-statistic):                nan\n",
      "Time:                        14:11:04   Log-Likelihood:                -529.87\n",
      "No. Observations:                 160   AIC:                             1062.\n",
      "Df Residuals:                     159   BIC:                             1065.\n",
      "Df Model:                           0                                         \n",
      "Covariance Type:            nonrobust                                         \n",
      "==============================================================================\n",
      "                 coef    std err          t      P>|t|      [0.025      0.975]\n",
      "------------------------------------------------------------------------------\n",
      "Intercept     13.1187      0.526     24.922      0.000      12.079      14.158\n",
      "==============================================================================\n",
      "Omnibus:                        8.814   Durbin-Watson:                   1.071\n",
      "Prob(Omnibus):                  0.012   Jarque-Bera (JB):                4.430\n",
      "Skew:                           0.172   Prob(JB):                        0.109\n",
      "Kurtosis:                       2.261   Cond. No.                         1.00\n",
      "==============================================================================\n",
      "\n",
      "Notes:\n",
      "[1] Standard Errors assume that the covariance matrix of the errors is correctly specified.\n"
     ]
    }
   ],
   "source": [
    "lm=smf.ols(formula=\"value ~ 1\", data=df_melted).fit()\n",
    "print(lm.summary())"
   ]
  },
  {
   "cell_type": "code",
   "execution_count": 105,
   "id": "ab32e104",
   "metadata": {},
   "outputs": [
    {
     "data": {
      "text/html": [
       "<div>\n",
       "<style scoped>\n",
       "    .dataframe tbody tr th:only-of-type {\n",
       "        vertical-align: middle;\n",
       "    }\n",
       "\n",
       "    .dataframe tbody tr th {\n",
       "        vertical-align: top;\n",
       "    }\n",
       "\n",
       "    .dataframe thead th {\n",
       "        text-align: right;\n",
       "    }\n",
       "</style>\n",
       "<table border=\"1\" class=\"dataframe\">\n",
       "  <thead>\n",
       "    <tr style=\"text-align: right;\">\n",
       "      <th></th>\n",
       "      <th>W</th>\n",
       "      <th>pval</th>\n",
       "      <th>normal</th>\n",
       "    </tr>\n",
       "  </thead>\n",
       "  <tbody>\n",
       "    <tr>\n",
       "      <th>0</th>\n",
       "      <td>0.980109</td>\n",
       "      <td>0.02093</td>\n",
       "      <td>False</td>\n",
       "    </tr>\n",
       "  </tbody>\n",
       "</table>\n",
       "</div>"
      ],
      "text/plain": [
       "          W     pval  normal\n",
       "0  0.980109  0.02093   False"
      ]
     },
     "execution_count": 105,
     "metadata": {},
     "output_type": "execute_result"
    },
    {
     "data": {
      "image/png": "[encoded data removed]",
      "text/plain": [
       "<Figure size 1000x300 with 2 Axes>"
      ]
     },
     "metadata": {},
     "output_type": "display_data"
    }
   ],
   "source": [
    "fig, axs = plt.subplots(1,2, figsize = (10,3))\n",
    "axs[0].hist(lm.resid)\n",
    "pg.qqplot(lm.resid, ax=axs[1]);\n",
    "pg.normality(lm.resid)"
   ]
  },
  {
   "cell_type": "code",
   "execution_count": 106,
   "id": "3c324d17",
   "metadata": {},
   "outputs": [
    {
     "name": "stdout",
     "output_type": "stream",
     "text": [
      "                            OLS Regression Results                            \n",
      "==============================================================================\n",
      "Dep. Variable:                  value   R-squared:                       0.521\n",
      "Model:                            OLS   Adj. R-squared:                  0.512\n",
      "Method:                 Least Squares   F-statistic:                     56.63\n",
      "Date:                Fri, 28 Apr 2023   Prob (F-statistic):           8.06e-25\n",
      "Time:                        14:11:05   Log-Likelihood:                -470.93\n",
      "No. Observations:                 160   AIC:                             949.9\n",
      "Df Residuals:                     156   BIC:                             962.2\n",
      "Df Model:                           3                                         \n",
      "Covariance Type:            nonrobust                                         \n",
      "====================================================================================\n",
      "                       coef    std err          t      P>|t|      [0.025      0.975]\n",
      "------------------------------------------------------------------------------------\n",
      "Intercept           13.2825      0.735     18.062      0.000      11.830      14.735\n",
      "variable[T.cs1]      5.3175      1.040      5.113      0.000       3.263       7.372\n",
      "variable[T.cs10]    -7.7750      1.040     -7.476      0.000      -9.829      -5.721\n",
      "variable[T.cs3]      1.8025      1.040      1.733      0.085      -0.252       3.857\n",
      "==============================================================================\n",
      "Omnibus:                        0.738   Durbin-Watson:                   2.253\n",
      "Prob(Omnibus):                  0.691   Jarque-Bera (JB):                0.861\n",
      "Skew:                          -0.141   Prob(JB):                        0.650\n",
      "Kurtosis:                       2.777   Cond. No.                         4.79\n",
      "==============================================================================\n",
      "\n",
      "Notes:\n",
      "[1] Standard Errors assume that the covariance matrix of the errors is correctly specified.\n"
     ]
    }
   ],
   "source": [
    "lm=smf.ols(formula=\"value ~ variable\", data=df_melted).fit()\n",
    "print(lm.summary())"
   ]
  },
  {
   "cell_type": "code",
   "execution_count": 107,
   "id": "c4d02cfd",
   "metadata": {},
   "outputs": [
    {
     "name": "stdout",
     "output_type": "stream",
     "text": [
      "                            OLS Regression Results                            \n",
      "==============================================================================\n",
      "Dep. Variable:                  value   R-squared:                       0.000\n",
      "Model:                            OLS   Adj. R-squared:                 -0.006\n",
      "Method:                 Least Squares   F-statistic:                   0.03272\n",
      "Date:                Fri, 28 Apr 2023   Prob (F-statistic):              0.857\n",
      "Time:                        14:11:05   Log-Likelihood:                -529.85\n",
      "No. Observations:                 160   AIC:                             1064.\n",
      "Df Residuals:                     158   BIC:                             1070.\n",
      "Df Model:                           1                                         \n",
      "Covariance Type:            nonrobust                                         \n",
      "====================================================================================\n",
      "                       coef    std err          t      P>|t|      [0.025      0.975]\n",
      "------------------------------------------------------------------------------------\n",
      "Intercept           12.7623      2.040      6.255      0.000       8.732      16.792\n",
      "Ситуативная_балл     0.0081      0.045      0.181      0.857      -0.080       0.096\n",
      "==============================================================================\n",
      "Omnibus:                        9.062   Durbin-Watson:                   1.070\n",
      "Prob(Omnibus):                  0.011   Jarque-Bera (JB):                4.471\n",
      "Skew:                           0.168   Prob(JB):                        0.107\n",
      "Kurtosis:                       2.253   Cond. No.                         177.\n",
      "==============================================================================\n",
      "\n",
      "Notes:\n",
      "[1] Standard Errors assume that the covariance matrix of the errors is correctly specified.\n"
     ]
    }
   ],
   "source": [
    "lm=smf.ols(formula=\"value ~ Ситуативная_балл\", data=df_melted).fit()\n",
    "print(lm.summary())"
   ]
  },
  {
   "cell_type": "code",
   "execution_count": 108,
   "id": "8be124a4",
   "metadata": {},
   "outputs": [
    {
     "name": "stdout",
     "output_type": "stream",
     "text": [
      "                            OLS Regression Results                            \n",
      "==============================================================================\n",
      "Dep. Variable:                  value   R-squared:                       0.002\n",
      "Model:                            OLS   Adj. R-squared:                 -0.005\n",
      "Method:                 Least Squares   F-statistic:                    0.2582\n",
      "Date:                Fri, 28 Apr 2023   Prob (F-statistic):              0.612\n",
      "Time:                        14:11:05   Log-Likelihood:                -529.74\n",
      "No. Observations:                 160   AIC:                             1063.\n",
      "Df Residuals:                     158   BIC:                             1070.\n",
      "Df Model:                           1                                         \n",
      "Covariance Type:            nonrobust                                         \n",
      "===================================================================================\n",
      "                      coef    std err          t      P>|t|      [0.025      0.975]\n",
      "-----------------------------------------------------------------------------------\n",
      "Intercept          14.1805      2.155      6.580      0.000       9.924      18.437\n",
      "Личностная_балл    -0.0231      0.045     -0.508      0.612      -0.113       0.067\n",
      "==============================================================================\n",
      "Omnibus:                        7.885   Durbin-Watson:                   1.069\n",
      "Prob(Omnibus):                  0.019   Jarque-Bera (JB):                4.183\n",
      "Skew:                           0.173   Prob(JB):                        0.123\n",
      "Kurtosis:                       2.287   Cond. No.                         194.\n",
      "==============================================================================\n",
      "\n",
      "Notes:\n",
      "[1] Standard Errors assume that the covariance matrix of the errors is correctly specified.\n"
     ]
    }
   ],
   "source": [
    "lm=smf.ols(formula=\"value ~ Личностная_балл\", data=df_melted).fit()\n",
    "print(lm.summary())"
   ]
  },
  {
   "cell_type": "markdown",
   "id": "d30238fb",
   "metadata": {},
   "source": [
    "## Вывод:\n",
    "нет зависимости значения КЧ на всех дипазонах с баллом ситуативной и личностной тревоги. "
   ]
  },
  {
   "cell_type": "markdown",
   "id": "d5321c2b",
   "metadata": {},
   "source": [
    "## Проверка частоты тремора"
   ]
  },
  {
   "cell_type": "code",
   "execution_count": 109,
   "id": "7d455847",
   "metadata": {},
   "outputs": [
    {
     "data": {
      "text/html": [
       "<div>\n",
       "<style scoped>\n",
       "    .dataframe tbody tr th:only-of-type {\n",
       "        vertical-align: middle;\n",
       "    }\n",
       "\n",
       "    .dataframe tbody tr th {\n",
       "        vertical-align: top;\n",
       "    }\n",
       "\n",
       "    .dataframe thead th {\n",
       "        text-align: right;\n",
       "    }\n",
       "</style>\n",
       "<table border=\"1\" class=\"dataframe\">\n",
       "  <thead>\n",
       "    <tr style=\"text-align: right;\">\n",
       "      <th></th>\n",
       "      <th>VIF</th>\n",
       "    </tr>\n",
       "  </thead>\n",
       "  <tbody>\n",
       "    <tr>\n",
       "      <th>ft04</th>\n",
       "      <td>6.613171</td>\n",
       "    </tr>\n",
       "    <tr>\n",
       "      <th>ft45</th>\n",
       "      <td>23.218149</td>\n",
       "    </tr>\n",
       "    <tr>\n",
       "      <th>ft56</th>\n",
       "      <td>73.529889</td>\n",
       "    </tr>\n",
       "    <tr>\n",
       "      <th>ft67</th>\n",
       "      <td>77.997906</td>\n",
       "    </tr>\n",
       "    <tr>\n",
       "      <th>ft71</th>\n",
       "      <td>235.860272</td>\n",
       "    </tr>\n",
       "    <tr>\n",
       "      <th>ft110</th>\n",
       "      <td>374.002840</td>\n",
       "    </tr>\n",
       "  </tbody>\n",
       "</table>\n",
       "</div>"
      ],
      "text/plain": [
       "              VIF\n",
       "ft04     6.613171\n",
       "ft45    23.218149\n",
       "ft56    73.529889\n",
       "ft67    77.997906\n",
       "ft71   235.860272\n",
       "ft110  374.002840"
      ]
     },
     "execution_count": 109,
     "metadata": {},
     "output_type": "execute_result"
    }
   ],
   "source": [
    "from statsmodels.stats.outliers_influence import variance_inflation_factor\n",
    "df_to_check = df[['ft04', 'ft45',\n",
    "       'ft56', 'ft67', 'ft71', 'ft110']]\n",
    "vifs = [variance_inflation_factor(df_to_check.values, i) for i in range(df_to_check.shape[1])]\n",
    "pd.DataFrame(vifs, index = df_to_check.columns, columns = ['VIF'])\n",
    "\n",
    "# предикторы зависимы. Варианты действий:\n",
    "# 1. Игнорируем проблему мультиколлинеарности и строим регрессионную модель\n",
    "# 2. Смотрим на частные корреляции, при этом делим р - значение на количество гипотез"
   ]
  },
  {
   "cell_type": "markdown",
   "id": "f6f417db",
   "metadata": {},
   "source": [
    "## 1. Bариант.  Строим модель ситуативной тревоги с предикторами частоты тремора"
   ]
  },
  {
   "cell_type": "code",
   "execution_count": 110,
   "id": "8704aaaa",
   "metadata": {},
   "outputs": [
    {
     "name": "stdout",
     "output_type": "stream",
     "text": [
      "                            OLS Regression Results                            \n",
      "==============================================================================\n",
      "Dep. Variable:       Ситуативная_балл   R-squared:                       0.000\n",
      "Model:                            OLS   Adj. R-squared:                  0.000\n",
      "Method:                 Least Squares   F-statistic:                       nan\n",
      "Date:                Fri, 28 Apr 2023   Prob (F-statistic):                nan\n",
      "Time:                        14:11:05   Log-Likelihood:                -155.67\n",
      "No. Observations:                  40   AIC:                             313.3\n",
      "Df Residuals:                      39   BIC:                             315.0\n",
      "Df Model:                           0                                         \n",
      "Covariance Type:            nonrobust                                         \n",
      "==============================================================================\n",
      "                 coef    std err          t      P>|t|      [0.025      0.975]\n",
      "------------------------------------------------------------------------------\n",
      "Intercept     44.2500      1.898     23.310      0.000      40.410      48.090\n",
      "==============================================================================\n",
      "Omnibus:                        3.979   Durbin-Watson:                   0.338\n",
      "Prob(Omnibus):                  0.137   Jarque-Bera (JB):                2.753\n",
      "Skew:                           0.589   Prob(JB):                        0.252\n",
      "Kurtosis:                       3.516   Cond. No.                         1.00\n",
      "==============================================================================\n",
      "\n",
      "Notes:\n",
      "[1] Standard Errors assume that the covariance matrix of the errors is correctly specified.\n"
     ]
    }
   ],
   "source": [
    "lm=smf.ols(formula=\"Ситуативная_балл ~ 1\", data=df).fit()\n",
    "print(lm.summary())"
   ]
  },
  {
   "cell_type": "code",
   "execution_count": 111,
   "id": "53fa4f22",
   "metadata": {},
   "outputs": [
    {
     "data": {
      "text/html": [
       "<div>\n",
       "<style scoped>\n",
       "    .dataframe tbody tr th:only-of-type {\n",
       "        vertical-align: middle;\n",
       "    }\n",
       "\n",
       "    .dataframe tbody tr th {\n",
       "        vertical-align: top;\n",
       "    }\n",
       "\n",
       "    .dataframe thead th {\n",
       "        text-align: right;\n",
       "    }\n",
       "</style>\n",
       "<table border=\"1\" class=\"dataframe\">\n",
       "  <thead>\n",
       "    <tr style=\"text-align: right;\">\n",
       "      <th></th>\n",
       "      <th>W</th>\n",
       "      <th>pval</th>\n",
       "      <th>normal</th>\n",
       "    </tr>\n",
       "  </thead>\n",
       "  <tbody>\n",
       "    <tr>\n",
       "      <th>0</th>\n",
       "      <td>0.968193</td>\n",
       "      <td>0.314979</td>\n",
       "      <td>True</td>\n",
       "    </tr>\n",
       "  </tbody>\n",
       "</table>\n",
       "</div>"
      ],
      "text/plain": [
       "          W      pval  normal\n",
       "0  0.968193  0.314979    True"
      ]
     },
     "execution_count": 111,
     "metadata": {},
     "output_type": "execute_result"
    },
    {
     "data": {
      "image/png": "[encoded data removed]",
      "text/plain": [
       "<Figure size 1000x300 with 2 Axes>"
      ]
     },
     "metadata": {},
     "output_type": "display_data"
    }
   ],
   "source": [
    "fig, axs = plt.subplots(1,2, figsize = (10,3))\n",
    "axs[0].hist(lm.resid)\n",
    "pg.qqplot(lm.resid, ax=axs[1]);\n",
    "pg.normality(lm.resid)"
   ]
  },
  {
   "cell_type": "code",
   "execution_count": 112,
   "id": "e8dde6dd",
   "metadata": {},
   "outputs": [
    {
     "name": "stdout",
     "output_type": "stream",
     "text": [
      "                            OLS Regression Results                            \n",
      "==============================================================================\n",
      "Dep. Variable:       Ситуативная_балл   R-squared:                       0.015\n",
      "Model:                            OLS   Adj. R-squared:                 -0.011\n",
      "Method:                 Least Squares   F-statistic:                    0.5937\n",
      "Date:                Fri, 28 Apr 2023   Prob (F-statistic):              0.446\n",
      "Time:                        14:11:05   Log-Likelihood:                -155.36\n",
      "No. Observations:                  40   AIC:                             314.7\n",
      "Df Residuals:                      38   BIC:                             318.1\n",
      "Df Model:                           1                                         \n",
      "Covariance Type:            nonrobust                                         \n",
      "=====================================================================================\n",
      "                        coef    std err          t      P>|t|      [0.025      0.975]\n",
      "-------------------------------------------------------------------------------------\n",
      "Intercept            44.2500      1.908     23.189      0.000      40.387      48.113\n",
      "standardize(ft04)    -1.4704      1.908     -0.771      0.446      -5.333       2.393\n",
      "==============================================================================\n",
      "Omnibus:                        4.448   Durbin-Watson:                   0.364\n",
      "Prob(Omnibus):                  0.108   Jarque-Bera (JB):                3.150\n",
      "Skew:                           0.617   Prob(JB):                        0.207\n",
      "Kurtosis:                       3.605   Cond. No.                         1.00\n",
      "==============================================================================\n",
      "\n",
      "Notes:\n",
      "[1] Standard Errors assume that the covariance matrix of the errors is correctly specified.\n"
     ]
    }
   ],
   "source": [
    "lm=smf.ols(formula=\"Ситуативная_балл ~ standardize(ft04)\", data=df).fit()\n",
    "print(lm.summary())"
   ]
  },
  {
   "cell_type": "code",
   "execution_count": 113,
   "id": "e41a1001",
   "metadata": {},
   "outputs": [
    {
     "name": "stdout",
     "output_type": "stream",
     "text": [
      "                            OLS Regression Results                            \n",
      "==============================================================================\n",
      "Dep. Variable:       Ситуативная_балл   R-squared:                       0.015\n",
      "Model:                            OLS   Adj. R-squared:                 -0.038\n",
      "Method:                 Least Squares   F-statistic:                    0.2898\n",
      "Date:                Fri, 28 Apr 2023   Prob (F-statistic):              0.750\n",
      "Time:                        14:11:05   Log-Likelihood:                -155.36\n",
      "No. Observations:                  40   AIC:                             316.7\n",
      "Df Residuals:                      37   BIC:                             321.8\n",
      "Df Model:                           2                                         \n",
      "Covariance Type:            nonrobust                                         \n",
      "=====================================================================================\n",
      "                        coef    std err          t      P>|t|      [0.025      0.975]\n",
      "-------------------------------------------------------------------------------------\n",
      "Intercept            44.2500      1.934     22.882      0.000      40.332      48.168\n",
      "standardize(ft04)    -1.4237      2.266     -0.628      0.534      -6.015       3.167\n",
      "standardize(ft45)    -0.0896      2.266     -0.040      0.969      -4.681       4.501\n",
      "==============================================================================\n",
      "Omnibus:                        4.297   Durbin-Watson:                   0.363\n",
      "Prob(Omnibus):                  0.117   Jarque-Bera (JB):                3.021\n",
      "Skew:                           0.609   Prob(JB):                        0.221\n",
      "Kurtosis:                       3.574   Cond. No.                         1.78\n",
      "==============================================================================\n",
      "\n",
      "Notes:\n",
      "[1] Standard Errors assume that the covariance matrix of the errors is correctly specified.\n"
     ]
    }
   ],
   "source": [
    "lm=smf.ols(formula=\"Ситуативная_балл ~ standardize(ft04)+standardize(ft45)\", data=df).fit()\n",
    "print(lm.summary())"
   ]
  },
  {
   "cell_type": "code",
   "execution_count": 114,
   "id": "d256efe8",
   "metadata": {},
   "outputs": [
    {
     "name": "stdout",
     "output_type": "stream",
     "text": [
      "                            OLS Regression Results                            \n",
      "==============================================================================\n",
      "Dep. Variable:       Ситуативная_балл   R-squared:                       0.022\n",
      "Model:                            OLS   Adj. R-squared:                 -0.060\n",
      "Method:                 Least Squares   F-statistic:                    0.2667\n",
      "Date:                Fri, 28 Apr 2023   Prob (F-statistic):              0.849\n",
      "Time:                        14:11:05   Log-Likelihood:                -155.23\n",
      "No. Observations:                  40   AIC:                             318.5\n",
      "Df Residuals:                      36   BIC:                             325.2\n",
      "Df Model:                           3                                         \n",
      "Covariance Type:            nonrobust                                         \n",
      "=====================================================================================\n",
      "                        coef    std err          t      P>|t|      [0.025      0.975]\n",
      "-------------------------------------------------------------------------------------\n",
      "Intercept            44.2500      1.954     22.643      0.000      40.287      48.213\n",
      "standardize(ft04)    -1.1886      2.341     -0.508      0.615      -5.937       3.559\n",
      "standardize(ft45)    -0.1337      2.292     -0.058      0.954      -4.781       4.514\n",
      "standardize(ft56)     0.9662      2.005      0.482      0.633      -3.099       5.032\n",
      "==============================================================================\n",
      "Omnibus:                        4.188   Durbin-Watson:                   0.353\n",
      "Prob(Omnibus):                  0.123   Jarque-Bera (JB):                2.967\n",
      "Skew:                           0.621   Prob(JB):                        0.227\n",
      "Kurtosis:                       3.489   Cond. No.                         1.86\n",
      "==============================================================================\n",
      "\n",
      "Notes:\n",
      "[1] Standard Errors assume that the covariance matrix of the errors is correctly specified.\n"
     ]
    }
   ],
   "source": [
    "lm=smf.ols(formula=\"Ситуативная_балл ~ standardize(ft04)+standardize(ft45)+ standardize(ft56)\", data=df).fit()\n",
    "print(lm.summary())"
   ]
  },
  {
   "cell_type": "code",
   "execution_count": 115,
   "id": "c362cea2",
   "metadata": {},
   "outputs": [
    {
     "name": "stdout",
     "output_type": "stream",
     "text": [
      "                            OLS Regression Results                            \n",
      "==============================================================================\n",
      "Dep. Variable:       Ситуативная_балл   R-squared:                       0.040\n",
      "Model:                            OLS   Adj. R-squared:                 -0.070\n",
      "Method:                 Least Squares   F-statistic:                    0.3642\n",
      "Date:                Fri, 28 Apr 2023   Prob (F-statistic):              0.832\n",
      "Time:                        14:11:05   Log-Likelihood:                -154.85\n",
      "No. Observations:                  40   AIC:                             319.7\n",
      "Df Residuals:                      35   BIC:                             328.1\n",
      "Df Model:                           4                                         \n",
      "Covariance Type:            nonrobust                                         \n",
      "=====================================================================================\n",
      "                        coef    std err          t      P>|t|      [0.025      0.975]\n",
      "-------------------------------------------------------------------------------------\n",
      "Intercept            44.2500      1.963     22.537      0.000      40.264      48.236\n",
      "standardize(ft04)    -1.6808      2.428     -0.692      0.493      -6.611       3.249\n",
      "standardize(ft45)     0.4465      2.410      0.185      0.854      -4.446       5.339\n",
      "standardize(ft56)     1.2102      2.036      0.594      0.556      -2.923       5.344\n",
      "standardize(ft67)    -1.7119      2.101     -0.815      0.421      -5.976       2.553\n",
      "==============================================================================\n",
      "Omnibus:                        5.289   Durbin-Watson:                   0.365\n",
      "Prob(Omnibus):                  0.071   Jarque-Bera (JB):                3.925\n",
      "Skew:                           0.638   Prob(JB):                        0.140\n",
      "Kurtosis:                       3.852   Cond. No.                         2.02\n",
      "==============================================================================\n",
      "\n",
      "Notes:\n",
      "[1] Standard Errors assume that the covariance matrix of the errors is correctly specified.\n"
     ]
    }
   ],
   "source": [
    "lm=smf.ols(formula=\"Ситуативная_балл ~ standardize(ft04)+standardize(ft45)+ standardize(ft56)+ standardize(ft67)\", data=df).fit()\n",
    "print(lm.summary())"
   ]
  },
  {
   "cell_type": "code",
   "execution_count": 116,
   "id": "96ca0ecd",
   "metadata": {},
   "outputs": [
    {
     "name": "stdout",
     "output_type": "stream",
     "text": [
      "                            OLS Regression Results                            \n",
      "==============================================================================\n",
      "Dep. Variable:       Ситуативная_балл   R-squared:                       0.054\n",
      "Model:                            OLS   Adj. R-squared:                 -0.085\n",
      "Method:                 Least Squares   F-statistic:                    0.3910\n",
      "Date:                Fri, 28 Apr 2023   Prob (F-statistic):              0.852\n",
      "Time:                        14:11:05   Log-Likelihood:                -154.55\n",
      "No. Observations:                  40   AIC:                             321.1\n",
      "Df Residuals:                      34   BIC:                             331.2\n",
      "Df Model:                           5                                         \n",
      "Covariance Type:            nonrobust                                         \n",
      "=====================================================================================\n",
      "                        coef    std err          t      P>|t|      [0.025      0.975]\n",
      "-------------------------------------------------------------------------------------\n",
      "Intercept            44.2500      1.977     22.382      0.000      40.232      48.268\n",
      "standardize(ft04)    -2.4868      2.689     -0.925      0.362      -7.952       2.979\n",
      "standardize(ft45)     0.0612      2.485      0.025      0.980      -4.989       5.111\n",
      "standardize(ft56)     0.1682      2.510      0.067      0.947      -4.932       5.269\n",
      "standardize(ft67)    -2.8410      2.633     -1.079      0.288      -8.192       2.510\n",
      "standardize(ft71)    -2.3215      3.225     -0.720      0.477      -8.875       4.232\n",
      "==============================================================================\n",
      "Omnibus:                        6.209   Durbin-Watson:                   0.421\n",
      "Prob(Omnibus):                  0.045   Jarque-Bera (JB):                4.947\n",
      "Skew:                           0.668   Prob(JB):                       0.0843\n",
      "Kurtosis:                       4.087   Cond. No.                         3.08\n",
      "==============================================================================\n",
      "\n",
      "Notes:\n",
      "[1] Standard Errors assume that the covariance matrix of the errors is correctly specified.\n"
     ]
    }
   ],
   "source": [
    "lm=smf.ols(formula=\"Ситуативная_балл ~ standardize(ft04)+standardize(ft45)+ standardize(ft56)+ standardize(ft67)+ standardize(ft71)\", data=df).fit()\n",
    "print(lm.summary())"
   ]
  },
  {
   "cell_type": "code",
   "execution_count": 117,
   "id": "daa8ee30",
   "metadata": {},
   "outputs": [
    {
     "name": "stdout",
     "output_type": "stream",
     "text": [
      "                            OLS Regression Results                            \n",
      "==============================================================================\n",
      "Dep. Variable:       Ситуативная_балл   R-squared:                       0.060\n",
      "Model:                            OLS   Adj. R-squared:                 -0.111\n",
      "Method:                 Least Squares   F-statistic:                    0.3490\n",
      "Date:                Fri, 28 Apr 2023   Prob (F-statistic):              0.905\n",
      "Time:                        14:11:05   Log-Likelihood:                -154.44\n",
      "No. Observations:                  40   AIC:                             322.9\n",
      "Df Residuals:                      33   BIC:                             334.7\n",
      "Df Model:                           6                                         \n",
      "Covariance Type:            nonrobust                                         \n",
      "======================================================================================\n",
      "                         coef    std err          t      P>|t|      [0.025      0.975]\n",
      "--------------------------------------------------------------------------------------\n",
      "Intercept             44.2500      2.001     22.112      0.000      40.179      48.321\n",
      "standardize(ft04)     -7.2335     11.343     -0.638      0.528     -30.312      15.845\n",
      "standardize(ft45)     -9.0015     21.174     -0.425      0.674     -52.081      34.078\n",
      "standardize(ft56)     -8.9682     21.347     -0.420      0.677     -52.399      34.463\n",
      "standardize(ft67)    -21.5911     43.580     -0.495      0.624    -110.255      67.073\n",
      "standardize(ft71)    -29.0557     62.106     -0.468      0.643    -155.412      97.301\n",
      "standardize(ft110)   -18.3895     42.662     -0.431      0.669    -105.185      68.406\n",
      "==============================================================================\n",
      "Omnibus:                        4.076   Durbin-Watson:                   0.401\n",
      "Prob(Omnibus):                  0.130   Jarque-Bera (JB):                2.783\n",
      "Skew:                           0.550   Prob(JB):                        0.249\n",
      "Kurtosis:                       3.678   Cond. No.                         65.3\n",
      "==============================================================================\n",
      "\n",
      "Notes:\n",
      "[1] Standard Errors assume that the covariance matrix of the errors is correctly specified.\n"
     ]
    }
   ],
   "source": [
    "lm=smf.ols(formula=\"Ситуативная_балл ~ standardize(ft04)+standardize(ft45)+ standardize(ft56)+ standardize(ft67)+ standardize(ft71)+ standardize(ft110)\", data=df).fit()\n",
    "print(lm.summary())"
   ]
  },
  {
   "cell_type": "markdown",
   "id": "d4c569ee",
   "metadata": {},
   "source": [
    "## Вывод:\n",
    "1. значимых предикторов частоты тремора для ситуативной тревоги не обнаружено\n"
   ]
  },
  {
   "cell_type": "markdown",
   "id": "df5d93c6",
   "metadata": {},
   "source": [
    "\n",
    "## Строим модель личностной тревоги с предикторами частоты тремора"
   ]
  },
  {
   "cell_type": "code",
   "execution_count": 118,
   "id": "d682e5cd",
   "metadata": {},
   "outputs": [
    {
     "name": "stdout",
     "output_type": "stream",
     "text": [
      "                            OLS Regression Results                            \n",
      "==============================================================================\n",
      "Dep. Variable:        Личностная_балл   R-squared:                       0.000\n",
      "Model:                            OLS   Adj. R-squared:                  0.000\n",
      "Method:                 Least Squares   F-statistic:                       nan\n",
      "Date:                Fri, 28 Apr 2023   Prob (F-statistic):                nan\n",
      "Time:                        14:11:05   Log-Likelihood:                -154.89\n",
      "No. Observations:                  40   AIC:                             311.8\n",
      "Df Residuals:                      39   BIC:                             313.5\n",
      "Df Model:                           0                                         \n",
      "Covariance Type:            nonrobust                                         \n",
      "==============================================================================\n",
      "                 coef    std err          t      P>|t|      [0.025      0.975]\n",
      "------------------------------------------------------------------------------\n",
      "Intercept     46.0500      1.862     24.733      0.000      42.284      49.816\n",
      "==============================================================================\n",
      "Omnibus:                        2.858   Durbin-Watson:                   0.137\n",
      "Prob(Omnibus):                  0.240   Jarque-Bera (JB):                1.924\n",
      "Skew:                           0.520   Prob(JB):                        0.382\n",
      "Kurtosis:                       3.273   Cond. No.                         1.00\n",
      "==============================================================================\n",
      "\n",
      "Notes:\n",
      "[1] Standard Errors assume that the covariance matrix of the errors is correctly specified.\n"
     ]
    }
   ],
   "source": [
    "lm=smf.ols(formula=\"Личностная_балл ~ 1\", data=df).fit()\n",
    "print(lm.summary())"
   ]
  },
  {
   "cell_type": "code",
   "execution_count": 119,
   "id": "7ec18fd0",
   "metadata": {},
   "outputs": [
    {
     "data": {
      "text/html": [
       "<div>\n",
       "<style scoped>\n",
       "    .dataframe tbody tr th:only-of-type {\n",
       "        vertical-align: middle;\n",
       "    }\n",
       "\n",
       "    .dataframe tbody tr th {\n",
       "        vertical-align: top;\n",
       "    }\n",
       "\n",
       "    .dataframe thead th {\n",
       "        text-align: right;\n",
       "    }\n",
       "</style>\n",
       "<table border=\"1\" class=\"dataframe\">\n",
       "  <thead>\n",
       "    <tr style=\"text-align: right;\">\n",
       "      <th></th>\n",
       "      <th>W</th>\n",
       "      <th>pval</th>\n",
       "      <th>normal</th>\n",
       "    </tr>\n",
       "  </thead>\n",
       "  <tbody>\n",
       "    <tr>\n",
       "      <th>0</th>\n",
       "      <td>0.962001</td>\n",
       "      <td>0.195975</td>\n",
       "      <td>True</td>\n",
       "    </tr>\n",
       "  </tbody>\n",
       "</table>\n",
       "</div>"
      ],
      "text/plain": [
       "          W      pval  normal\n",
       "0  0.962001  0.195975    True"
      ]
     },
     "execution_count": 119,
     "metadata": {},
     "output_type": "execute_result"
    },
    {
     "data": {
      "image/png": "[encoded data removed]",
      "text/plain": [
       "<Figure size 1000x300 with 2 Axes>"
      ]
     },
     "metadata": {},
     "output_type": "display_data"
    }
   ],
   "source": [
    "fig, axs = plt.subplots(1,2, figsize = (10,3))\n",
    "axs[0].hist(lm.resid)\n",
    "pg.qqplot(lm.resid, ax=axs[1]);\n",
    "pg.normality(lm.resid)"
   ]
  },
  {
   "cell_type": "code",
   "execution_count": 120,
   "id": "0ad0bf2f",
   "metadata": {},
   "outputs": [
    {
     "name": "stdout",
     "output_type": "stream",
     "text": [
      "                            OLS Regression Results                            \n",
      "==============================================================================\n",
      "Dep. Variable:        Личностная_балл   R-squared:                       0.000\n",
      "Model:                            OLS   Adj. R-squared:                 -0.026\n",
      "Method:                 Least Squares   F-statistic:                  0.006852\n",
      "Date:                Fri, 28 Apr 2023   Prob (F-statistic):              0.934\n",
      "Time:                        14:11:06   Log-Likelihood:                -154.89\n",
      "No. Observations:                  40   AIC:                             313.8\n",
      "Df Residuals:                      38   BIC:                             317.2\n",
      "Df Model:                           1                                         \n",
      "Covariance Type:            nonrobust                                         \n",
      "=====================================================================================\n",
      "                        coef    std err          t      P>|t|      [0.025      0.975]\n",
      "-------------------------------------------------------------------------------------\n",
      "Intercept            46.0500      1.886     24.416      0.000      42.232      49.868\n",
      "standardize(ft04)     0.1561      1.886      0.083      0.934      -3.662       3.974\n",
      "==============================================================================\n",
      "Omnibus:                        2.795   Durbin-Watson:                   0.136\n",
      "Prob(Omnibus):                  0.247   Jarque-Bera (JB):                1.887\n",
      "Skew:                           0.517   Prob(JB):                        0.389\n",
      "Kurtosis:                       3.254   Cond. No.                         1.00\n",
      "==============================================================================\n",
      "\n",
      "Notes:\n",
      "[1] Standard Errors assume that the covariance matrix of the errors is correctly specified.\n"
     ]
    }
   ],
   "source": [
    "lm=smf.ols(formula=\"Личностная_балл ~ standardize(ft04)\", data=df).fit()\n",
    "print(lm.summary())"
   ]
  },
  {
   "cell_type": "code",
   "execution_count": 121,
   "id": "951b1347",
   "metadata": {},
   "outputs": [
    {
     "name": "stdout",
     "output_type": "stream",
     "text": [
      "                            OLS Regression Results                            \n",
      "==============================================================================\n",
      "Dep. Variable:        Личностная_балл   R-squared:                       0.001\n",
      "Model:                            OLS   Adj. R-squared:                 -0.053\n",
      "Method:                 Least Squares   F-statistic:                   0.01280\n",
      "Date:                Fri, 28 Apr 2023   Prob (F-statistic):              0.987\n",
      "Time:                        14:11:06   Log-Likelihood:                -154.88\n",
      "No. Observations:                  40   AIC:                             315.8\n",
      "Df Residuals:                      37   BIC:                             320.8\n",
      "Df Model:                           2                                         \n",
      "Covariance Type:            nonrobust                                         \n",
      "=====================================================================================\n",
      "                        coef    std err          t      P>|t|      [0.025      0.975]\n",
      "-------------------------------------------------------------------------------------\n",
      "Intercept            46.0500      1.911     24.099      0.000      42.178      49.922\n",
      "standardize(ft04)     0.3167      2.239      0.141      0.888      -4.220       4.853\n",
      "standardize(ft45)    -0.3081      2.239     -0.138      0.891      -4.845       4.228\n",
      "==============================================================================\n",
      "Omnibus:                        2.621   Durbin-Watson:                   0.138\n",
      "Prob(Omnibus):                  0.270   Jarque-Bera (JB):                1.756\n",
      "Skew:                           0.500   Prob(JB):                        0.416\n",
      "Kurtosis:                       3.230   Cond. No.                         1.78\n",
      "==============================================================================\n",
      "\n",
      "Notes:\n",
      "[1] Standard Errors assume that the covariance matrix of the errors is correctly specified.\n"
     ]
    }
   ],
   "source": [
    "lm=smf.ols(formula=\"Личностная_балл ~ standardize(ft04)+standardize(ft45)\", data=df).fit()\n",
    "print(lm.summary())"
   ]
  },
  {
   "cell_type": "code",
   "execution_count": 122,
   "id": "acd76b51",
   "metadata": {},
   "outputs": [
    {
     "name": "stdout",
     "output_type": "stream",
     "text": [
      "                            OLS Regression Results                            \n",
      "==============================================================================\n",
      "Dep. Variable:        Личностная_балл   R-squared:                       0.001\n",
      "Model:                            OLS   Adj. R-squared:                 -0.082\n",
      "Method:                 Least Squares   F-statistic:                   0.01391\n",
      "Date:                Fri, 28 Apr 2023   Prob (F-statistic):              0.998\n",
      "Time:                        14:11:06   Log-Likelihood:                -154.87\n",
      "No. Observations:                  40   AIC:                             317.7\n",
      "Df Residuals:                      36   BIC:                             324.5\n",
      "Df Model:                           3                                         \n",
      "Covariance Type:            nonrobust                                         \n",
      "=====================================================================================\n",
      "                        coef    std err          t      P>|t|      [0.025      0.975]\n",
      "-------------------------------------------------------------------------------------\n",
      "Intercept            46.0500      1.937     23.777      0.000      42.122      49.978\n",
      "standardize(ft04)     0.3793      2.320      0.163      0.871      -4.326       5.085\n",
      "standardize(ft45)    -0.3198      2.271     -0.141      0.889      -4.926       4.286\n",
      "standardize(ft56)     0.2576      1.987      0.130      0.898      -3.772       4.287\n",
      "==============================================================================\n",
      "Omnibus:                        2.569   Durbin-Watson:                   0.142\n",
      "Prob(Omnibus):                  0.277   Jarque-Bera (JB):                1.741\n",
      "Skew:                           0.501   Prob(JB):                        0.419\n",
      "Kurtosis:                       3.201   Cond. No.                         1.86\n",
      "==============================================================================\n",
      "\n",
      "Notes:\n",
      "[1] Standard Errors assume that the covariance matrix of the errors is correctly specified.\n"
     ]
    }
   ],
   "source": [
    "lm=smf.ols(formula=\"Личностная_балл ~ standardize(ft04)+standardize(ft45)+ standardize(ft56)\", data=df).fit()\n",
    "print(lm.summary())"
   ]
  },
  {
   "cell_type": "code",
   "execution_count": 123,
   "id": "f7eb1999",
   "metadata": {},
   "outputs": [
    {
     "name": "stdout",
     "output_type": "stream",
     "text": [
      "                            OLS Regression Results                            \n",
      "==============================================================================\n",
      "Dep. Variable:        Личностная_балл   R-squared:                       0.005\n",
      "Model:                            OLS   Adj. R-squared:                 -0.109\n",
      "Method:                 Least Squares   F-statistic:                   0.04137\n",
      "Date:                Fri, 28 Apr 2023   Prob (F-statistic):              0.997\n",
      "Time:                        14:11:06   Log-Likelihood:                -154.80\n",
      "No. Observations:                  40   AIC:                             319.6\n",
      "Df Residuals:                      35   BIC:                             328.0\n",
      "Df Model:                           4                                         \n",
      "Covariance Type:            nonrobust                                         \n",
      "=====================================================================================\n",
      "                        coef    std err          t      P>|t|      [0.025      0.975]\n",
      "-------------------------------------------------------------------------------------\n",
      "Intercept            46.0500      1.961     23.486      0.000      42.069      50.031\n",
      "standardize(ft04)     0.1663      2.425      0.069      0.946      -4.757       5.090\n",
      "standardize(ft45)    -0.0687      2.407     -0.029      0.977      -4.954       4.817\n",
      "standardize(ft56)     0.3632      2.033      0.179      0.859      -3.765       4.491\n",
      "standardize(ft67)    -0.7410      2.098     -0.353      0.726      -5.000       3.518\n",
      "==============================================================================\n",
      "Omnibus:                        2.520   Durbin-Watson:                   0.178\n",
      "Prob(Omnibus):                  0.284   Jarque-Bera (JB):                1.633\n",
      "Skew:                           0.477   Prob(JB):                        0.442\n",
      "Kurtosis:                       3.264   Cond. No.                         2.02\n",
      "==============================================================================\n",
      "\n",
      "Notes:\n",
      "[1] Standard Errors assume that the covariance matrix of the errors is correctly specified.\n"
     ]
    }
   ],
   "source": [
    "lm=smf.ols(formula=\"Личностная_балл ~ standardize(ft04)+standardize(ft45)+ standardize(ft56)+ standardize(ft67)\", data=df).fit()\n",
    "print(lm.summary())"
   ]
  },
  {
   "cell_type": "code",
   "execution_count": 124,
   "id": "f9886751",
   "metadata": {},
   "outputs": [
    {
     "name": "stdout",
     "output_type": "stream",
     "text": [
      "                            OLS Regression Results                            \n",
      "==============================================================================\n",
      "Dep. Variable:        Личностная_балл   R-squared:                       0.006\n",
      "Model:                            OLS   Adj. R-squared:                 -0.140\n",
      "Method:                 Least Squares   F-statistic:                   0.03962\n",
      "Date:                Fri, 28 Apr 2023   Prob (F-statistic):              0.999\n",
      "Time:                        14:11:06   Log-Likelihood:                -154.78\n",
      "No. Observations:                  40   AIC:                             321.6\n",
      "Df Residuals:                      34   BIC:                             331.7\n",
      "Df Model:                           5                                         \n",
      "Covariance Type:            nonrobust                                         \n",
      "=====================================================================================\n",
      "                        coef    std err          t      P>|t|      [0.025      0.975]\n",
      "-------------------------------------------------------------------------------------\n",
      "Intercept            46.0500      1.988     23.160      0.000      42.009      50.091\n",
      "standardize(ft04)    -0.0508      2.705     -0.019      0.985      -5.547       5.446\n",
      "standardize(ft45)    -0.1725      2.499     -0.069      0.945      -5.251       4.906\n",
      "standardize(ft56)     0.0826      2.524      0.033      0.974      -5.047       5.212\n",
      "standardize(ft67)    -1.0451      2.648     -0.395      0.696      -6.427       4.337\n",
      "standardize(ft71)    -0.6253      3.243     -0.193      0.848      -7.216       5.965\n",
      "==============================================================================\n",
      "Omnibus:                        2.441   Durbin-Watson:                   0.184\n",
      "Prob(Omnibus):                  0.295   Jarque-Bera (JB):                1.561\n",
      "Skew:                           0.465   Prob(JB):                        0.458\n",
      "Kurtosis:                       3.267   Cond. No.                         3.08\n",
      "==============================================================================\n",
      "\n",
      "Notes:\n",
      "[1] Standard Errors assume that the covariance matrix of the errors is correctly specified.\n"
     ]
    }
   ],
   "source": [
    "lm=smf.ols(formula=\"Личностная_балл ~ standardize(ft04)+standardize(ft45)+ standardize(ft56)+ standardize(ft67)+ standardize(ft71)\", data=df).fit()\n",
    "print(lm.summary())"
   ]
  },
  {
   "cell_type": "code",
   "execution_count": 125,
   "id": "948b0e39",
   "metadata": {},
   "outputs": [
    {
     "name": "stdout",
     "output_type": "stream",
     "text": [
      "                            OLS Regression Results                            \n",
      "==============================================================================\n",
      "Dep. Variable:        Личностная_балл   R-squared:                       0.014\n",
      "Model:                            OLS   Adj. R-squared:                 -0.166\n",
      "Method:                 Least Squares   F-statistic:                   0.07664\n",
      "Date:                Fri, 28 Apr 2023   Prob (F-statistic):              0.998\n",
      "Time:                        14:11:06   Log-Likelihood:                -154.62\n",
      "No. Observations:                  40   AIC:                             323.2\n",
      "Df Residuals:                      33   BIC:                             335.1\n",
      "Df Model:                           6                                         \n",
      "Covariance Type:            nonrobust                                         \n",
      "======================================================================================\n",
      "                         coef    std err          t      P>|t|      [0.025      0.975]\n",
      "--------------------------------------------------------------------------------------\n",
      "Intercept             46.0500      2.010     22.909      0.000      41.960      50.140\n",
      "standardize(ft04)      5.6541     11.394      0.496      0.623     -17.528      28.836\n",
      "standardize(ft45)     10.7193     21.269      0.504      0.618     -32.553      53.992\n",
      "standardize(ft56)     11.0631     21.443      0.516      0.609     -32.563      54.689\n",
      "standardize(ft67)     21.4896     43.775      0.491      0.627     -67.572     110.551\n",
      "standardize(ft71)     31.5049     62.385      0.505      0.617     -95.418     158.427\n",
      "standardize(ft110)    22.1012     42.853      0.516      0.609     -65.083     109.286\n",
      "==============================================================================\n",
      "Omnibus:                        2.622   Durbin-Watson:                   0.215\n",
      "Prob(Omnibus):                  0.270   Jarque-Bera (JB):                1.619\n",
      "Skew:                           0.454   Prob(JB):                        0.445\n",
      "Kurtosis:                       3.384   Cond. No.                         65.3\n",
      "==============================================================================\n",
      "\n",
      "Notes:\n",
      "[1] Standard Errors assume that the covariance matrix of the errors is correctly specified.\n"
     ]
    }
   ],
   "source": [
    "lm=smf.ols(formula=\"Личностная_балл ~ standardize(ft04)+standardize(ft45)+ standardize(ft56)+ standardize(ft67)+ standardize(ft71)+ standardize(ft110)\", data=df).fit()\n",
    "print(lm.summary())"
   ]
  },
  {
   "cell_type": "markdown",
   "id": "46ec3a57",
   "metadata": {},
   "source": [
    "## Вывод:\n",
    "1. значимых предикторов частоты тремора для личнсотной тревоги не обнаружено\n",
    "\n",
    "## строим модель частоты тремора с предикторами личностной и ситуативной тревоги (через melt)"
   ]
  },
  {
   "cell_type": "code",
   "execution_count": 126,
   "id": "be48cbe7",
   "metadata": {},
   "outputs": [
    {
     "name": "stdout",
     "output_type": "stream",
     "text": [
      "                            OLS Regression Results                            \n",
      "==============================================================================\n",
      "Dep. Variable:                  value   R-squared:                       0.000\n",
      "Model:                            OLS   Adj. R-squared:                 -0.004\n",
      "Method:                 Least Squares   F-statistic:                 8.957e-07\n",
      "Date:                Fri, 28 Apr 2023   Prob (F-statistic):              0.999\n",
      "Time:                        14:11:06   Log-Likelihood:                 85.620\n",
      "No. Observations:                 240   AIC:                            -167.2\n",
      "Df Residuals:                     238   BIC:                            -160.3\n",
      "Df Model:                           1                                         \n",
      "Covariance Type:            nonrobust                                         \n",
      "===================================================================================\n",
      "                      coef    std err          t      P>|t|      [0.025      0.975]\n",
      "-----------------------------------------------------------------------------------\n",
      "Intercept           0.1666      0.045      3.716      0.000       0.078       0.255\n",
      "Личностная_балл  8.936e-07      0.001      0.001      0.999      -0.002       0.002\n",
      "==============================================================================\n",
      "Omnibus:                      464.846   Durbin-Watson:                   0.030\n",
      "Prob(Omnibus):                  0.000   Jarque-Bera (JB):               34.660\n",
      "Skew:                           0.632   Prob(JB):                     2.98e-08\n",
      "Kurtosis:                       1.633   Cond. No.                         194.\n",
      "==============================================================================\n",
      "\n",
      "Notes:\n",
      "[1] Standard Errors assume that the covariance matrix of the errors is correctly specified.\n"
     ]
    }
   ],
   "source": [
    "df_melted = pd.melt(df, id_vars =['id','Ситуативная_балл','Личностная_балл'], value_vars =['ft04', 'ft45', 'ft56', 'ft67', 'ft71', 'ft110'])\n",
    "lm=smf.ols(formula=\"value ~ Личностная_балл\", data=df_melted).fit()\n",
    "print(lm.summary())"
   ]
  },
  {
   "cell_type": "code",
   "execution_count": 127,
   "id": "2b6269f5",
   "metadata": {},
   "outputs": [
    {
     "name": "stdout",
     "output_type": "stream",
     "text": [
      "                            OLS Regression Results                            \n",
      "==============================================================================\n",
      "Dep. Variable:                  value   R-squared:                       0.000\n",
      "Model:                            OLS   Adj. R-squared:                 -0.004\n",
      "Method:                 Least Squares   F-statistic:                 1.433e-07\n",
      "Date:                Fri, 28 Apr 2023   Prob (F-statistic):               1.00\n",
      "Time:                        14:11:06   Log-Likelihood:                 85.620\n",
      "No. Observations:                 240   AIC:                            -167.2\n",
      "Df Residuals:                     238   BIC:                            -160.3\n",
      "Df Model:                           1                                         \n",
      "Covariance Type:            nonrobust                                         \n",
      "====================================================================================\n",
      "                       coef    std err          t      P>|t|      [0.025      0.975]\n",
      "------------------------------------------------------------------------------------\n",
      "Intercept            0.1667      0.042      3.929      0.000       0.083       0.250\n",
      "Ситуативная_балл -3.506e-07      0.001     -0.000      1.000      -0.002       0.002\n",
      "==============================================================================\n",
      "Omnibus:                      464.850   Durbin-Watson:                   0.030\n",
      "Prob(Omnibus):                  0.000   Jarque-Bera (JB):               34.660\n",
      "Skew:                           0.632   Prob(JB):                     2.98e-08\n",
      "Kurtosis:                       1.633   Cond. No.                         177.\n",
      "==============================================================================\n",
      "\n",
      "Notes:\n",
      "[1] Standard Errors assume that the covariance matrix of the errors is correctly specified.\n"
     ]
    }
   ],
   "source": [
    "lm=smf.ols(formula=\"value ~ Ситуативная_балл\", data=df_melted).fit()\n",
    "print(lm.summary())"
   ]
  },
  {
   "cell_type": "markdown",
   "id": "71449949",
   "metadata": {},
   "source": [
    "## Вывод:\n",
    "1. нет связи между частотой тремора и баллом тревожности"
   ]
  },
  {
   "cell_type": "markdown",
   "id": "3483985e",
   "metadata": {},
   "source": [
    "## Строим модель ситуативной тревоги с предикторами амплитуды тремора¶"
   ]
  },
  {
   "cell_type": "code",
   "execution_count": 128,
   "id": "23651389",
   "metadata": {},
   "outputs": [
    {
     "data": {
      "text/html": [
       "<div>\n",
       "<style scoped>\n",
       "    .dataframe tbody tr th:only-of-type {\n",
       "        vertical-align: middle;\n",
       "    }\n",
       "\n",
       "    .dataframe tbody tr th {\n",
       "        vertical-align: top;\n",
       "    }\n",
       "\n",
       "    .dataframe thead th {\n",
       "        text-align: right;\n",
       "    }\n",
       "</style>\n",
       "<table border=\"1\" class=\"dataframe\">\n",
       "  <thead>\n",
       "    <tr style=\"text-align: right;\">\n",
       "      <th></th>\n",
       "      <th>VIF</th>\n",
       "    </tr>\n",
       "  </thead>\n",
       "  <tbody>\n",
       "    <tr>\n",
       "      <th>At04</th>\n",
       "      <td>3.646077</td>\n",
       "    </tr>\n",
       "    <tr>\n",
       "      <th>At45</th>\n",
       "      <td>21.264732</td>\n",
       "    </tr>\n",
       "    <tr>\n",
       "      <th>At56</th>\n",
       "      <td>32.208082</td>\n",
       "    </tr>\n",
       "    <tr>\n",
       "      <th>At67</th>\n",
       "      <td>83.690942</td>\n",
       "    </tr>\n",
       "    <tr>\n",
       "      <th>At71</th>\n",
       "      <td>281.561096</td>\n",
       "    </tr>\n",
       "    <tr>\n",
       "      <th>At110</th>\n",
       "      <td>288.678664</td>\n",
       "    </tr>\n",
       "  </tbody>\n",
       "</table>\n",
       "</div>"
      ],
      "text/plain": [
       "              VIF\n",
       "At04     3.646077\n",
       "At45    21.264732\n",
       "At56    32.208082\n",
       "At67    83.690942\n",
       "At71   281.561096\n",
       "At110  288.678664"
      ]
     },
     "execution_count": 128,
     "metadata": {},
     "output_type": "execute_result"
    }
   ],
   "source": [
    "from statsmodels.stats.outliers_influence import variance_inflation_factor\n",
    "df_to_check = df[['At04', 'At45', 'At56', 'At67', 'At71',\n",
    "       'At110']]\n",
    "vifs = [variance_inflation_factor(df_to_check.values, i) for i in range(df_to_check.shape[1])]\n",
    "pd.DataFrame(vifs, index = df_to_check.columns, columns = ['VIF'])\n",
    "\n",
    "# предикторы зависимы. Варианты действий:\n",
    "# 1. Игнорируем проблему мультиколлинеарности и строим регрессионную модель\n",
    "# 2. Смотрим на частные корреляции, при этом делим р - значение на количество гипотез (?или какой еще вариант анализа данных тут возможен?)"
   ]
  },
  {
   "cell_type": "code",
   "execution_count": 129,
   "id": "6132096d",
   "metadata": {},
   "outputs": [
    {
     "name": "stdout",
     "output_type": "stream",
     "text": [
      "                            OLS Regression Results                            \n",
      "==============================================================================\n",
      "Dep. Variable:       Ситуативная_балл   R-squared:                       0.000\n",
      "Model:                            OLS   Adj. R-squared:                  0.000\n",
      "Method:                 Least Squares   F-statistic:                       nan\n",
      "Date:                Fri, 28 Apr 2023   Prob (F-statistic):                nan\n",
      "Time:                        14:11:06   Log-Likelihood:                -155.67\n",
      "No. Observations:                  40   AIC:                             313.3\n",
      "Df Residuals:                      39   BIC:                             315.0\n",
      "Df Model:                           0                                         \n",
      "Covariance Type:            nonrobust                                         \n",
      "==============================================================================\n",
      "                 coef    std err          t      P>|t|      [0.025      0.975]\n",
      "------------------------------------------------------------------------------\n",
      "Intercept     44.2500      1.898     23.310      0.000      40.410      48.090\n",
      "==============================================================================\n",
      "Omnibus:                        3.979   Durbin-Watson:                   0.338\n",
      "Prob(Omnibus):                  0.137   Jarque-Bera (JB):                2.753\n",
      "Skew:                           0.589   Prob(JB):                        0.252\n",
      "Kurtosis:                       3.516   Cond. No.                         1.00\n",
      "==============================================================================\n",
      "\n",
      "Notes:\n",
      "[1] Standard Errors assume that the covariance matrix of the errors is correctly specified.\n"
     ]
    }
   ],
   "source": [
    "lm=smf.ols(formula=\"Ситуативная_балл ~ 1\", data=df).fit()\n",
    "print(lm.summary())"
   ]
  },
  {
   "cell_type": "code",
   "execution_count": 130,
   "id": "bacd6358",
   "metadata": {},
   "outputs": [
    {
     "data": {
      "text/html": [
       "<div>\n",
       "<style scoped>\n",
       "    .dataframe tbody tr th:only-of-type {\n",
       "        vertical-align: middle;\n",
       "    }\n",
       "\n",
       "    .dataframe tbody tr th {\n",
       "        vertical-align: top;\n",
       "    }\n",
       "\n",
       "    .dataframe thead th {\n",
       "        text-align: right;\n",
       "    }\n",
       "</style>\n",
       "<table border=\"1\" class=\"dataframe\">\n",
       "  <thead>\n",
       "    <tr style=\"text-align: right;\">\n",
       "      <th></th>\n",
       "      <th>W</th>\n",
       "      <th>pval</th>\n",
       "      <th>normal</th>\n",
       "    </tr>\n",
       "  </thead>\n",
       "  <tbody>\n",
       "    <tr>\n",
       "      <th>0</th>\n",
       "      <td>0.968193</td>\n",
       "      <td>0.314979</td>\n",
       "      <td>True</td>\n",
       "    </tr>\n",
       "  </tbody>\n",
       "</table>\n",
       "</div>"
      ],
      "text/plain": [
       "          W      pval  normal\n",
       "0  0.968193  0.314979    True"
      ]
     },
     "execution_count": 130,
     "metadata": {},
     "output_type": "execute_result"
    },
    {
     "data": {
      "image/png": "[encoded data removed]",
      "text/plain": [
       "<Figure size 1000x300 with 2 Axes>"
      ]
     },
     "metadata": {},
     "output_type": "display_data"
    }
   ],
   "source": [
    "fig, axs = plt.subplots(1,2, figsize = (10,3))\n",
    "axs[0].hist(lm.resid)\n",
    "pg.qqplot(lm.resid, ax=axs[1]);\n",
    "pg.normality(lm.resid)"
   ]
  },
  {
   "cell_type": "code",
   "execution_count": 131,
   "id": "6b9c303a",
   "metadata": {},
   "outputs": [
    {
     "name": "stdout",
     "output_type": "stream",
     "text": [
      "                            OLS Regression Results                            \n",
      "==============================================================================\n",
      "Dep. Variable:       Ситуативная_балл   R-squared:                       0.052\n",
      "Model:                            OLS   Adj. R-squared:                  0.027\n",
      "Method:                 Least Squares   F-statistic:                     2.091\n",
      "Date:                Fri, 28 Apr 2023   Prob (F-statistic):              0.156\n",
      "Time:                        14:11:06   Log-Likelihood:                -154.60\n",
      "No. Observations:                  40   AIC:                             313.2\n",
      "Df Residuals:                      38   BIC:                             316.6\n",
      "Df Model:                           1                                         \n",
      "Covariance Type:            nonrobust                                         \n",
      "=====================================================================================\n",
      "                        coef    std err          t      P>|t|      [0.025      0.975]\n",
      "-------------------------------------------------------------------------------------\n",
      "Intercept            44.2500      1.872     23.634      0.000      40.460      48.040\n",
      "standardize(At04)    -2.7075      1.872     -1.446      0.156      -6.498       1.083\n",
      "==============================================================================\n",
      "Omnibus:                        3.074   Durbin-Watson:                   0.440\n",
      "Prob(Omnibus):                  0.215   Jarque-Bera (JB):                1.976\n",
      "Skew:                           0.497   Prob(JB):                        0.372\n",
      "Kurtosis:                       3.442   Cond. No.                         1.00\n",
      "==============================================================================\n",
      "\n",
      "Notes:\n",
      "[1] Standard Errors assume that the covariance matrix of the errors is correctly specified.\n"
     ]
    }
   ],
   "source": [
    "lm=smf.ols(formula=\"Ситуативная_балл ~ standardize(At04)\", data=df).fit()\n",
    "print(lm.summary())"
   ]
  },
  {
   "cell_type": "code",
   "execution_count": 132,
   "id": "c3655ca5",
   "metadata": {},
   "outputs": [
    {
     "name": "stdout",
     "output_type": "stream",
     "text": [
      "                            OLS Regression Results                            \n",
      "==============================================================================\n",
      "Dep. Variable:       Ситуативная_балл   R-squared:                       0.094\n",
      "Model:                            OLS   Adj. R-squared:                  0.045\n",
      "Method:                 Least Squares   F-statistic:                     1.913\n",
      "Date:                Fri, 28 Apr 2023   Prob (F-statistic):              0.162\n",
      "Time:                        14:11:06   Log-Likelihood:                -153.70\n",
      "No. Observations:                  40   AIC:                             313.4\n",
      "Df Residuals:                      37   BIC:                             318.5\n",
      "Df Model:                           2                                         \n",
      "Covariance Type:            nonrobust                                         \n",
      "=====================================================================================\n",
      "                        coef    std err          t      P>|t|      [0.025      0.975]\n",
      "-------------------------------------------------------------------------------------\n",
      "Intercept            44.2500      1.855     23.850      0.000      40.491      48.009\n",
      "standardize(At04)    -3.3455      1.919     -1.743      0.090      -7.234       0.543\n",
      "standardize(At45)     2.4992      1.919      1.302      0.201      -1.389       6.387\n",
      "==============================================================================\n",
      "Omnibus:                        4.684   Durbin-Watson:                   0.524\n",
      "Prob(Omnibus):                  0.096   Jarque-Bera (JB):                3.366\n",
      "Skew:                           0.559   Prob(JB):                        0.186\n",
      "Kurtosis:                       3.877   Cond. No.                         1.30\n",
      "==============================================================================\n",
      "\n",
      "Notes:\n",
      "[1] Standard Errors assume that the covariance matrix of the errors is correctly specified.\n"
     ]
    }
   ],
   "source": [
    "lm=smf.ols(formula=\"Ситуативная_балл ~ standardize(At04)+standardize(At45)\", data=df).fit()\n",
    "print(lm.summary())"
   ]
  },
  {
   "cell_type": "code",
   "execution_count": 133,
   "id": "8f51b9a7",
   "metadata": {},
   "outputs": [
    {
     "name": "stdout",
     "output_type": "stream",
     "text": [
      "                            OLS Regression Results                            \n",
      "==============================================================================\n",
      "Dep. Variable:       Ситуативная_балл   R-squared:                       0.094\n",
      "Model:                            OLS   Adj. R-squared:                  0.019\n",
      "Method:                 Least Squares   F-statistic:                     1.246\n",
      "Date:                Fri, 28 Apr 2023   Prob (F-statistic):              0.307\n",
      "Time:                        14:11:06   Log-Likelihood:                -153.69\n",
      "No. Observations:                  40   AIC:                             315.4\n",
      "Df Residuals:                      36   BIC:                             322.1\n",
      "Df Model:                           3                                         \n",
      "Covariance Type:            nonrobust                                         \n",
      "=====================================================================================\n",
      "                        coef    std err          t      P>|t|      [0.025      0.975]\n",
      "-------------------------------------------------------------------------------------\n",
      "Intercept            44.2500      1.881     23.530      0.000      40.436      48.064\n",
      "standardize(At04)    -3.2149      2.210     -1.455      0.154      -7.697       1.267\n",
      "standardize(At45)     2.5060      1.946      1.288      0.206      -1.440       6.452\n",
      "standardize(At56)    -0.2689      2.161     -0.124      0.902      -4.652       4.114\n",
      "==============================================================================\n",
      "Omnibus:                        4.808   Durbin-Watson:                   0.529\n",
      "Prob(Omnibus):                  0.090   Jarque-Bera (JB):                3.491\n",
      "Skew:                           0.566   Prob(JB):                        0.175\n",
      "Kurtosis:                       3.902   Cond. No.                         1.81\n",
      "==============================================================================\n",
      "\n",
      "Notes:\n",
      "[1] Standard Errors assume that the covariance matrix of the errors is correctly specified.\n"
     ]
    }
   ],
   "source": [
    "lm=smf.ols(formula=\"Ситуативная_балл ~ standardize(At04)+standardize(At45)+ standardize(At56)\", data=df).fit()\n",
    "print(lm.summary())"
   ]
  },
  {
   "cell_type": "code",
   "execution_count": 134,
   "id": "901844e0",
   "metadata": {},
   "outputs": [
    {
     "name": "stdout",
     "output_type": "stream",
     "text": [
      "                            OLS Regression Results                            \n",
      "==============================================================================\n",
      "Dep. Variable:       Ситуативная_балл   R-squared:                       0.101\n",
      "Model:                            OLS   Adj. R-squared:                 -0.002\n",
      "Method:                 Least Squares   F-statistic:                    0.9805\n",
      "Date:                Fri, 28 Apr 2023   Prob (F-statistic):              0.431\n",
      "Time:                        14:11:06   Log-Likelihood:                -153.54\n",
      "No. Observations:                  40   AIC:                             317.1\n",
      "Df Residuals:                      35   BIC:                             325.5\n",
      "Df Model:                           4                                         \n",
      "Covariance Type:            nonrobust                                         \n",
      "=====================================================================================\n",
      "                        coef    std err          t      P>|t|      [0.025      0.975]\n",
      "-------------------------------------------------------------------------------------\n",
      "Intercept            44.2500      1.900     23.287      0.000      40.392      48.108\n",
      "standardize(At04)    -3.1328      2.239     -1.399      0.171      -7.678       1.412\n",
      "standardize(At45)     3.0167      2.207      1.367      0.180      -1.463       7.497\n",
      "standardize(At56)    -0.0355      2.231     -0.016      0.987      -4.565       4.494\n",
      "standardize(At67)    -1.1556      2.268     -0.510      0.614      -5.760       3.449\n",
      "==============================================================================\n",
      "Omnibus:                        6.945   Durbin-Watson:                   0.599\n",
      "Prob(Omnibus):                  0.031   Jarque-Bera (JB):                5.834\n",
      "Skew:                           0.704   Prob(JB):                       0.0541\n",
      "Kurtosis:                       4.232   Cond. No.                         2.12\n",
      "==============================================================================\n",
      "\n",
      "Notes:\n",
      "[1] Standard Errors assume that the covariance matrix of the errors is correctly specified.\n"
     ]
    }
   ],
   "source": [
    "lm=smf.ols(formula=\"Ситуативная_балл ~ standardize(At04)+standardize(At45)+ standardize(At56)+ standardize(At67)\", data=df).fit()\n",
    "print(lm.summary())"
   ]
  },
  {
   "cell_type": "code",
   "execution_count": 135,
   "id": "5e27c704",
   "metadata": {},
   "outputs": [
    {
     "name": "stdout",
     "output_type": "stream",
     "text": [
      "                            OLS Regression Results                            \n",
      "==============================================================================\n",
      "Dep. Variable:       Ситуативная_балл   R-squared:                       0.146\n",
      "Model:                            OLS   Adj. R-squared:                  0.020\n",
      "Method:                 Least Squares   F-statistic:                     1.162\n",
      "Date:                Fri, 28 Apr 2023   Prob (F-statistic):              0.348\n",
      "Time:                        14:11:07   Log-Likelihood:                -152.51\n",
      "No. Observations:                  40   AIC:                             317.0\n",
      "Df Residuals:                      34   BIC:                             327.2\n",
      "Df Model:                           5                                         \n",
      "Covariance Type:            nonrobust                                         \n",
      "=====================================================================================\n",
      "                        coef    std err          t      P>|t|      [0.025      0.975]\n",
      "-------------------------------------------------------------------------------------\n",
      "Intercept            44.2500      1.879     23.552      0.000      40.432      48.068\n",
      "standardize(At04)    -4.7879      2.534     -1.889      0.067      -9.938       0.363\n",
      "standardize(At45)     3.0330      2.182      1.390      0.174      -1.402       7.468\n",
      "standardize(At56)    -1.6409      2.510     -0.654      0.518      -6.741       3.460\n",
      "standardize(At67)    -3.8965      3.034     -1.284      0.208     -10.062       2.269\n",
      "standardize(At71)     5.1932      3.871      1.342      0.189      -2.674      13.060\n",
      "==============================================================================\n",
      "Omnibus:                        5.057   Durbin-Watson:                   0.637\n",
      "Prob(Omnibus):                  0.080   Jarque-Bera (JB):                3.694\n",
      "Skew:                           0.639   Prob(JB):                        0.158\n",
      "Kurtosis:                       3.764   Cond. No.                         4.29\n",
      "==============================================================================\n",
      "\n",
      "Notes:\n",
      "[1] Standard Errors assume that the covariance matrix of the errors is correctly specified.\n"
     ]
    }
   ],
   "source": [
    "lm=smf.ols(formula=\"Ситуативная_балл ~ standardize(At04)+standardize(At45)+ standardize(At56)+ standardize(At67)+ standardize(At71) \", data=df).fit()\n",
    "print(lm.summary())"
   ]
  },
  {
   "cell_type": "code",
   "execution_count": 136,
   "id": "a5c249b1",
   "metadata": {},
   "outputs": [
    {
     "name": "stdout",
     "output_type": "stream",
     "text": [
      "                            OLS Regression Results                            \n",
      "==============================================================================\n",
      "Dep. Variable:       Ситуативная_балл   R-squared:                       0.184\n",
      "Model:                            OLS   Adj. R-squared:                  0.035\n",
      "Method:                 Least Squares   F-statistic:                     1.237\n",
      "Date:                Fri, 28 Apr 2023   Prob (F-statistic):              0.313\n",
      "Time:                        14:11:07   Log-Likelihood:                -151.61\n",
      "No. Observations:                  40   AIC:                             317.2\n",
      "Df Residuals:                      33   BIC:                             329.0\n",
      "Df Model:                           6                                         \n",
      "Covariance Type:            nonrobust                                         \n",
      "======================================================================================\n",
      "                         coef    std err          t      P>|t|      [0.025      0.975]\n",
      "--------------------------------------------------------------------------------------\n",
      "Intercept             44.2500      1.865     23.731      0.000      40.456      48.044\n",
      "standardize(At04)     -3.9000      2.616     -1.491      0.146      -9.223       1.423\n",
      "standardize(At45)      2.5594      2.199      1.164      0.253      -1.915       7.034\n",
      "standardize(At56)     -2.1599      2.526     -0.855      0.399      -7.299       2.980\n",
      "standardize(At67)     -4.7037      3.081     -1.527      0.136     -10.972       1.565\n",
      "standardize(At71)     -0.5299      6.025     -0.088      0.930     -12.788      11.729\n",
      "standardize(At110)     6.7571      5.480      1.233      0.226      -4.393      17.907\n",
      "==============================================================================\n",
      "Omnibus:                        2.781   Durbin-Watson:                   0.513\n",
      "Prob(Omnibus):                  0.249   Jarque-Bera (JB):                1.774\n",
      "Skew:                           0.483   Prob(JB):                        0.412\n",
      "Kurtosis:                       3.364   Cond. No.                         7.91\n",
      "==============================================================================\n",
      "\n",
      "Notes:\n",
      "[1] Standard Errors assume that the covariance matrix of the errors is correctly specified.\n"
     ]
    }
   ],
   "source": [
    "lm=smf.ols(formula=\"Ситуативная_балл ~ standardize(At04)+standardize(At45)+ standardize(At56)+ standardize(At67)+ standardize(At71)+ standardize(At110)\", data=df).fit()\n",
    "print(lm.summary())"
   ]
  },
  {
   "cell_type": "markdown",
   "id": "469518cd",
   "metadata": {},
   "source": [
    "## Вывод:\n",
    "1. значимых предикторов амплитуды тремора для ситуативной тревоги не обнаружено. \n",
    "## Cтроим модель личностной тревоги с предикторами амплитуды тремора"
   ]
  },
  {
   "cell_type": "code",
   "execution_count": 137,
   "id": "b313ec5e",
   "metadata": {},
   "outputs": [
    {
     "name": "stdout",
     "output_type": "stream",
     "text": [
      "                            OLS Regression Results                            \n",
      "==============================================================================\n",
      "Dep. Variable:        Личностная_балл   R-squared:                       0.000\n",
      "Model:                            OLS   Adj. R-squared:                  0.000\n",
      "Method:                 Least Squares   F-statistic:                       nan\n",
      "Date:                Fri, 28 Apr 2023   Prob (F-statistic):                nan\n",
      "Time:                        14:11:07   Log-Likelihood:                -154.89\n",
      "No. Observations:                  40   AIC:                             311.8\n",
      "Df Residuals:                      39   BIC:                             313.5\n",
      "Df Model:                           0                                         \n",
      "Covariance Type:            nonrobust                                         \n",
      "==============================================================================\n",
      "                 coef    std err          t      P>|t|      [0.025      0.975]\n",
      "------------------------------------------------------------------------------\n",
      "Intercept     46.0500      1.862     24.733      0.000      42.284      49.816\n",
      "==============================================================================\n",
      "Omnibus:                        2.858   Durbin-Watson:                   0.137\n",
      "Prob(Omnibus):                  0.240   Jarque-Bera (JB):                1.924\n",
      "Skew:                           0.520   Prob(JB):                        0.382\n",
      "Kurtosis:                       3.273   Cond. No.                         1.00\n",
      "==============================================================================\n",
      "\n",
      "Notes:\n",
      "[1] Standard Errors assume that the covariance matrix of the errors is correctly specified.\n"
     ]
    }
   ],
   "source": [
    "lm=smf.ols(formula=\"Личностная_балл ~  1\", data=df).fit()\n",
    "print(lm.summary())"
   ]
  },
  {
   "cell_type": "code",
   "execution_count": 138,
   "id": "4742e605",
   "metadata": {},
   "outputs": [
    {
     "data": {
      "text/html": [
       "<div>\n",
       "<style scoped>\n",
       "    .dataframe tbody tr th:only-of-type {\n",
       "        vertical-align: middle;\n",
       "    }\n",
       "\n",
       "    .dataframe tbody tr th {\n",
       "        vertical-align: top;\n",
       "    }\n",
       "\n",
       "    .dataframe thead th {\n",
       "        text-align: right;\n",
       "    }\n",
       "</style>\n",
       "<table border=\"1\" class=\"dataframe\">\n",
       "  <thead>\n",
       "    <tr style=\"text-align: right;\">\n",
       "      <th></th>\n",
       "      <th>W</th>\n",
       "      <th>pval</th>\n",
       "      <th>normal</th>\n",
       "    </tr>\n",
       "  </thead>\n",
       "  <tbody>\n",
       "    <tr>\n",
       "      <th>0</th>\n",
       "      <td>0.962001</td>\n",
       "      <td>0.195975</td>\n",
       "      <td>True</td>\n",
       "    </tr>\n",
       "  </tbody>\n",
       "</table>\n",
       "</div>"
      ],
      "text/plain": [
       "          W      pval  normal\n",
       "0  0.962001  0.195975    True"
      ]
     },
     "execution_count": 138,
     "metadata": {},
     "output_type": "execute_result"
    },
    {
     "data": {
      "image/png": "[encoded data removed]",
      "text/plain": [
       "<Figure size 1000x300 with 2 Axes>"
      ]
     },
     "metadata": {},
     "output_type": "display_data"
    }
   ],
   "source": [
    "fig, axs = plt.subplots(1,2, figsize = (10,3))\n",
    "axs[0].hist(lm.resid)\n",
    "pg.qqplot(lm.resid, ax=axs[1]);\n",
    "pg.normality(lm.resid)"
   ]
  },
  {
   "cell_type": "code",
   "execution_count": 139,
   "id": "5c1d4294",
   "metadata": {},
   "outputs": [
    {
     "name": "stdout",
     "output_type": "stream",
     "text": [
      "                            OLS Regression Results                            \n",
      "==============================================================================\n",
      "Dep. Variable:        Личностная_балл   R-squared:                       0.042\n",
      "Model:                            OLS   Adj. R-squared:                  0.017\n",
      "Method:                 Least Squares   F-statistic:                     1.665\n",
      "Date:                Fri, 28 Apr 2023   Prob (F-statistic):              0.205\n",
      "Time:                        14:11:07   Log-Likelihood:                -154.03\n",
      "No. Observations:                  40   AIC:                             312.1\n",
      "Df Residuals:                      38   BIC:                             315.4\n",
      "Df Model:                           1                                         \n",
      "Covariance Type:            nonrobust                                         \n",
      "=====================================================================================\n",
      "                        coef    std err          t      P>|t|      [0.025      0.975]\n",
      "-------------------------------------------------------------------------------------\n",
      "Intercept            46.0500      1.846     24.943      0.000      42.313      49.787\n",
      "standardize(At04)    -2.3822      1.846     -1.290      0.205      -6.120       1.355\n",
      "==============================================================================\n",
      "Omnibus:                        1.964   Durbin-Watson:                   0.248\n",
      "Prob(Omnibus):                  0.375   Jarque-Bera (JB):                1.122\n",
      "Skew:                           0.382   Prob(JB):                        0.571\n",
      "Kurtosis:                       3.300   Cond. No.                         1.00\n",
      "==============================================================================\n",
      "\n",
      "Notes:\n",
      "[1] Standard Errors assume that the covariance matrix of the errors is correctly specified.\n"
     ]
    }
   ],
   "source": [
    "lm=smf.ols(formula=\"Личностная_балл ~ standardize(At04)\", data=df).fit()\n",
    "print(lm.summary())"
   ]
  },
  {
   "cell_type": "code",
   "execution_count": 140,
   "id": "6e4a0216",
   "metadata": {},
   "outputs": [
    {
     "name": "stdout",
     "output_type": "stream",
     "text": [
      "                            OLS Regression Results                            \n",
      "==============================================================================\n",
      "Dep. Variable:        Личностная_балл   R-squared:                       0.091\n",
      "Model:                            OLS   Adj. R-squared:                  0.041\n",
      "Method:                 Least Squares   F-statistic:                     1.843\n",
      "Date:                Fri, 28 Apr 2023   Prob (F-statistic):              0.173\n",
      "Time:                        14:11:07   Log-Likelihood:                -152.99\n",
      "No. Observations:                  40   AIC:                             312.0\n",
      "Df Residuals:                      37   BIC:                             317.1\n",
      "Df Model:                           2                                         \n",
      "Covariance Type:            nonrobust                                         \n",
      "=====================================================================================\n",
      "                        coef    std err          t      P>|t|      [0.025      0.975]\n",
      "-------------------------------------------------------------------------------------\n",
      "Intercept            46.0500      1.823     25.262      0.000      42.356      49.744\n",
      "standardize(At04)    -3.0592      1.885     -1.623      0.113      -6.879       0.761\n",
      "standardize(At45)     2.6518      1.885      1.406      0.168      -1.168       6.472\n",
      "==============================================================================\n",
      "Omnibus:                        4.183   Durbin-Watson:                   0.275\n",
      "Prob(Omnibus):                  0.124   Jarque-Bera (JB):                2.877\n",
      "Skew:                           0.547   Prob(JB):                        0.237\n",
      "Kurtosis:                       3.729   Cond. No.                         1.30\n",
      "==============================================================================\n",
      "\n",
      "Notes:\n",
      "[1] Standard Errors assume that the covariance matrix of the errors is correctly specified.\n"
     ]
    }
   ],
   "source": [
    "lm=smf.ols(formula=\"Личностная_балл ~ standardize(At04)+standardize(At45)\", data=df).fit()\n",
    "print(lm.summary())"
   ]
  },
  {
   "cell_type": "code",
   "execution_count": 141,
   "id": "a82b4605",
   "metadata": {},
   "outputs": [
    {
     "name": "stdout",
     "output_type": "stream",
     "text": [
      "                            OLS Regression Results                            \n",
      "==============================================================================\n",
      "Dep. Variable:        Личностная_балл   R-squared:                       0.110\n",
      "Model:                            OLS   Adj. R-squared:                  0.036\n",
      "Method:                 Least Squares   F-statistic:                     1.484\n",
      "Date:                Fri, 28 Apr 2023   Prob (F-statistic):              0.235\n",
      "Time:                        14:11:07   Log-Likelihood:                -152.56\n",
      "No. Observations:                  40   AIC:                             313.1\n",
      "Df Residuals:                      36   BIC:                             319.9\n",
      "Df Model:                           3                                         \n",
      "Covariance Type:            nonrobust                                         \n",
      "=====================================================================================\n",
      "                        coef    std err          t      P>|t|      [0.025      0.975]\n",
      "-------------------------------------------------------------------------------------\n",
      "Intercept            46.0500      1.828     25.189      0.000      42.342      49.758\n",
      "standardize(At04)    -2.1548      2.148     -1.003      0.323      -6.512       2.203\n",
      "standardize(At45)     2.6991      1.892      1.427      0.162      -1.137       6.535\n",
      "standardize(At56)    -1.8625      2.101     -0.887      0.381      -6.123       2.398\n",
      "==============================================================================\n",
      "Omnibus:                        4.544   Durbin-Watson:                   0.344\n",
      "Prob(Omnibus):                  0.103   Jarque-Bera (JB):                3.244\n",
      "Skew:                           0.631   Prob(JB):                        0.198\n",
      "Kurtosis:                       3.597   Cond. No.                         1.81\n",
      "==============================================================================\n",
      "\n",
      "Notes:\n",
      "[1] Standard Errors assume that the covariance matrix of the errors is correctly specified.\n"
     ]
    }
   ],
   "source": [
    "lm=smf.ols(formula=\"Личностная_балл ~ standardize(At04)+standardize(At45)+ standardize(At56)\", data=df).fit()\n",
    "print(lm.summary())"
   ]
  },
  {
   "cell_type": "code",
   "execution_count": 142,
   "id": "05c94abd",
   "metadata": {},
   "outputs": [
    {
     "name": "stdout",
     "output_type": "stream",
     "text": [
      "                            OLS Regression Results                            \n",
      "==============================================================================\n",
      "Dep. Variable:        Личностная_балл   R-squared:                       0.160\n",
      "Model:                            OLS   Adj. R-squared:                  0.064\n",
      "Method:                 Least Squares   F-statistic:                     1.663\n",
      "Date:                Fri, 28 Apr 2023   Prob (F-statistic):              0.181\n",
      "Time:                        14:11:07   Log-Likelihood:                -151.41\n",
      "No. Observations:                  40   AIC:                             312.8\n",
      "Df Residuals:                      35   BIC:                             321.3\n",
      "Df Model:                           4                                         \n",
      "Covariance Type:            nonrobust                                         \n",
      "=====================================================================================\n",
      "                        coef    std err          t      P>|t|      [0.025      0.975]\n",
      "-------------------------------------------------------------------------------------\n",
      "Intercept            46.0500      1.802     25.560      0.000      42.393      49.707\n",
      "standardize(At04)    -1.9348      2.123     -0.911      0.368      -6.244       2.375\n",
      "standardize(At45)     4.0665      2.092      1.943      0.060      -0.181       8.314\n",
      "standardize(At56)    -1.2375      2.115     -0.585      0.562      -5.532       3.057\n",
      "standardize(At67)    -3.0939      2.150     -1.439      0.159      -7.459       1.271\n",
      "==============================================================================\n",
      "Omnibus:                        7.975   Durbin-Watson:                   0.464\n",
      "Prob(Omnibus):                  0.019   Jarque-Bera (JB):                6.918\n",
      "Skew:                           0.804   Prob(JB):                       0.0315\n",
      "Kurtosis:                       4.252   Cond. No.                         2.12\n",
      "==============================================================================\n",
      "\n",
      "Notes:\n",
      "[1] Standard Errors assume that the covariance matrix of the errors is correctly specified.\n"
     ]
    }
   ],
   "source": [
    "lm=smf.ols(formula=\"Личностная_балл ~ standardize(At04)+standardize(At45)+ standardize(At56)+ standardize(At67) \", data=df).fit()\n",
    "print(lm.summary())"
   ]
  },
  {
   "cell_type": "code",
   "execution_count": 143,
   "id": "fdc0caa4",
   "metadata": {},
   "outputs": [
    {
     "name": "stdout",
     "output_type": "stream",
     "text": [
      "                            OLS Regression Results                            \n",
      "==============================================================================\n",
      "Dep. Variable:        Личностная_балл   R-squared:                       0.161\n",
      "Model:                            OLS   Adj. R-squared:                  0.037\n",
      "Method:                 Least Squares   F-statistic:                     1.303\n",
      "Date:                Fri, 28 Apr 2023   Prob (F-statistic):              0.286\n",
      "Time:                        14:11:07   Log-Likelihood:                -151.39\n",
      "No. Observations:                  40   AIC:                             314.8\n",
      "Df Residuals:                      34   BIC:                             324.9\n",
      "Df Model:                           5                                         \n",
      "Covariance Type:            nonrobust                                         \n",
      "=====================================================================================\n",
      "                        coef    std err          t      P>|t|      [0.025      0.975]\n",
      "-------------------------------------------------------------------------------------\n",
      "Intercept            46.0500      1.827     25.209      0.000      42.338      49.762\n",
      "standardize(At04)    -2.1902      2.464     -0.889      0.380      -7.198       2.817\n",
      "standardize(At45)     4.0690      2.122      1.918      0.064      -0.242       8.380\n",
      "standardize(At56)    -1.4853      2.440     -0.609      0.547      -6.444       3.474\n",
      "standardize(At67)    -3.5168      2.949     -1.192      0.241      -9.511       2.477\n",
      "standardize(At71)     0.8013      3.764      0.213      0.833      -6.847       8.450\n",
      "==============================================================================\n",
      "Omnibus:                        7.736   Durbin-Watson:                   0.467\n",
      "Prob(Omnibus):                  0.021   Jarque-Bera (JB):                6.595\n",
      "Skew:                           0.797   Prob(JB):                       0.0370\n",
      "Kurtosis:                       4.189   Cond. No.                         4.29\n",
      "==============================================================================\n",
      "\n",
      "Notes:\n",
      "[1] Standard Errors assume that the covariance matrix of the errors is correctly specified.\n"
     ]
    }
   ],
   "source": [
    "lm=smf.ols(formula=\"Личностная_балл ~ standardize(At04)+standardize(At45)+ standardize(At56)+ standardize(At67)+ standardize(At71)\", data=df).fit()\n",
    "print(lm.summary())"
   ]
  },
  {
   "cell_type": "code",
   "execution_count": 144,
   "id": "48da2318",
   "metadata": {},
   "outputs": [
    {
     "name": "stdout",
     "output_type": "stream",
     "text": [
      "                            OLS Regression Results                            \n",
      "==============================================================================\n",
      "Dep. Variable:        Личностная_балл   R-squared:                       0.162\n",
      "Model:                            OLS   Adj. R-squared:                  0.010\n",
      "Method:                 Least Squares   F-statistic:                     1.063\n",
      "Date:                Fri, 28 Apr 2023   Prob (F-statistic):              0.404\n",
      "Time:                        14:11:07   Log-Likelihood:                -151.36\n",
      "No. Observations:                  40   AIC:                             316.7\n",
      "Df Residuals:                      33   BIC:                             328.5\n",
      "Df Model:                           6                                         \n",
      "Covariance Type:            nonrobust                                         \n",
      "======================================================================================\n",
      "                         coef    std err          t      P>|t|      [0.025      0.975]\n",
      "--------------------------------------------------------------------------------------\n",
      "Intercept             46.0500      1.853     24.852      0.000      42.280      49.820\n",
      "standardize(At04)     -2.3396      2.600     -0.900      0.375      -7.629       2.950\n",
      "standardize(At45)      4.1487      2.186      1.898      0.066      -0.298       8.595\n",
      "standardize(At56)     -1.3979      2.510     -0.557      0.581      -6.505       3.709\n",
      "standardize(At67)     -3.3809      3.062     -1.104      0.277      -9.610       2.848\n",
      "standardize(At71)      1.7642      5.988      0.295      0.770     -10.417      13.946\n",
      "standardize(At110)    -1.1369      5.446     -0.209      0.836     -12.217       9.943\n",
      "==============================================================================\n",
      "Omnibus:                        7.889   Durbin-Watson:                   0.468\n",
      "Prob(Omnibus):                  0.019   Jarque-Bera (JB):                6.829\n",
      "Skew:                           0.795   Prob(JB):                       0.0329\n",
      "Kurtosis:                       4.254   Cond. No.                         7.91\n",
      "==============================================================================\n",
      "\n",
      "Notes:\n",
      "[1] Standard Errors assume that the covariance matrix of the errors is correctly specified.\n"
     ]
    }
   ],
   "source": [
    "lm=smf.ols(formula=\"Личностная_балл ~ standardize(At04)+standardize(At45)+ standardize(At56)+ standardize(At67)+ standardize(At71)+ standardize(At110)\", data=df).fit()\n",
    "print(lm.summary())"
   ]
  },
  {
   "cell_type": "markdown",
   "id": "507d62d6",
   "metadata": {},
   "source": [
    "## Вывод:\n",
    "    1. значимых предикторов амплитуды тремора для личностной тревоги не обнаружено\n",
    "    \n",
    "## Пробую смэлтить таблицу, чтобы построить модель амплитуды тремора с предиктором тревоги"
   ]
  },
  {
   "cell_type": "code",
   "execution_count": 145,
   "id": "7cd9d0fe",
   "metadata": {},
   "outputs": [
    {
     "name": "stdout",
     "output_type": "stream",
     "text": [
      "                            OLS Regression Results                            \n",
      "==============================================================================\n",
      "Dep. Variable:                  value   R-squared:                       0.011\n",
      "Model:                            OLS   Adj. R-squared:                  0.007\n",
      "Method:                 Least Squares   F-statistic:                     2.641\n",
      "Date:                Fri, 28 Apr 2023   Prob (F-statistic):              0.105\n",
      "Time:                        14:11:07   Log-Likelihood:                 243.06\n",
      "No. Observations:                 240   AIC:                            -482.1\n",
      "Df Residuals:                     238   BIC:                            -475.1\n",
      "Df Model:                           1                                         \n",
      "Covariance Type:            nonrobust                                         \n",
      "===================================================================================\n",
      "                      coef    std err          t      P>|t|      [0.025      0.975]\n",
      "-----------------------------------------------------------------------------------\n",
      "Intercept           0.2776      0.023     11.930      0.000       0.232       0.323\n",
      "Личностная_балл    -0.0008      0.000     -1.625      0.105      -0.002       0.000\n",
      "==============================================================================\n",
      "Omnibus:                       28.593   Durbin-Watson:                   1.346\n",
      "Prob(Omnibus):                  0.000   Jarque-Bera (JB):              150.209\n",
      "Skew:                           0.145   Prob(JB):                     2.41e-33\n",
      "Kurtosis:                       6.865   Cond. No.                         194.\n",
      "==============================================================================\n",
      "\n",
      "Notes:\n",
      "[1] Standard Errors assume that the covariance matrix of the errors is correctly specified.\n"
     ]
    }
   ],
   "source": [
    "df_melted = pd.melt(df, id_vars =['id','Ситуативная_балл','Личностная_балл'], value_vars =['At04',\n",
    "       'At45', 'At56', 'At67', 'At71', 'At110'])\n",
    "lm=smf.ols(formula=\"value ~ Личностная_балл\", data=df_melted).fit()\n",
    "print(lm.summary())"
   ]
  },
  {
   "cell_type": "code",
   "execution_count": 146,
   "id": "0c2532fd",
   "metadata": {},
   "outputs": [
    {
     "name": "stdout",
     "output_type": "stream",
     "text": [
      "                            OLS Regression Results                            \n",
      "==============================================================================\n",
      "Dep. Variable:                  value   R-squared:                       0.003\n",
      "Model:                            OLS   Adj. R-squared:                 -0.002\n",
      "Method:                 Least Squares   F-statistic:                    0.6355\n",
      "Date:                Fri, 28 Apr 2023   Prob (F-statistic):              0.426\n",
      "Time:                        14:11:07   Log-Likelihood:                 242.05\n",
      "No. Observations:                 240   AIC:                            -480.1\n",
      "Df Residuals:                     238   BIC:                            -473.1\n",
      "Df Model:                           1                                         \n",
      "Covariance Type:            nonrobust                                         \n",
      "====================================================================================\n",
      "                       coef    std err          t      P>|t|      [0.025      0.975]\n",
      "------------------------------------------------------------------------------------\n",
      "Intercept            0.2580      0.022     11.669      0.000       0.214       0.302\n",
      "Ситуативная_балл    -0.0004      0.000     -0.797      0.426      -0.001       0.001\n",
      "==============================================================================\n",
      "Omnibus:                       29.523   Durbin-Watson:                   1.345\n",
      "Prob(Omnibus):                  0.000   Jarque-Bera (JB):              156.574\n",
      "Skew:                           0.180   Prob(JB):                     1.00e-34\n",
      "Kurtosis:                       6.941   Cond. No.                         177.\n",
      "==============================================================================\n",
      "\n",
      "Notes:\n",
      "[1] Standard Errors assume that the covariance matrix of the errors is correctly specified.\n"
     ]
    }
   ],
   "source": [
    "lm=smf.ols(formula=\"value ~ Ситуативная_балл\", data=df_melted).fit()\n",
    "print(lm.summary())"
   ]
  },
  {
   "cell_type": "markdown",
   "id": "b5fe3162",
   "metadata": {},
   "source": [
    "## Вывод:\n",
    "нет взаимосвязи между значением амплитуды тремора с баллом тревоги "
   ]
  }
 ],
 "metadata": {
  "kernelspec": {
   "display_name": "Python 3.10.10 64-bit",
   "language": "python",
   "name": "python3"
  },
  "language_info": {
   "codemirror_mode": {
    "name": "ipython",
    "version": 3
   },
   "file_extension": ".py",
   "mimetype": "text/x-python",
   "name": "python",
   "nbconvert_exporter": "python",
   "pygments_lexer": "ipython3",
   "version": "3.10.10"
  },
  "vscode": {
   "interpreter": {
    "hash": "aee8b7b246df8f9039afb4144a1f6fd8d2ca17a180786b69acc140d282b71a49"
   }
  }
 },
 "nbformat": 4,
 "nbformat_minor": 5
}
